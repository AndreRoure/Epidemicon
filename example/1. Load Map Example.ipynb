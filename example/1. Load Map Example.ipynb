{
 "cells": [
  {
   "cell_type": "markdown",
   "metadata": {},
   "source": [
    "# 1. Load Library\n",
    "## 1.1 Load Global Library\n",
    "Load global library here, because we will change the path to library when we load the local library"
   ]
  },
  {
   "cell_type": "code",
   "execution_count": 1,
   "metadata": {},
   "outputs": [],
   "source": [
    "import sys\n",
    "import os"
   ]
  },
  {
   "cell_type": "markdown",
   "metadata": {},
   "source": [
    "## 1.2 Load Local Library"
   ]
  },
  {
   "cell_type": "code",
   "execution_count": 2,
   "metadata": {},
   "outputs": [],
   "source": [
    "# change the library read path\n",
    "sys.path.append(os.path.join(os.getcwd() , \"..\"))\n",
    "\n",
    "# load local library\n",
    "import lib.Map.Map as map\n",
    "import lib.Renderer.Renderer as renderer"
   ]
  },
  {
   "cell_type": "markdown",
   "metadata": {},
   "source": [
    "# 2. How to use the documentation\n",
    "\n",
    "To keep it simple, you can read the documentation on the fly by calling printing \\_\\_doc\\_\\_ attribute \n",
    "\n",
    "## 2.1 Class documentation"
   ]
  },
  {
   "cell_type": "code",
   "execution_count": 3,
   "metadata": {},
   "outputs": [
    {
     "name": "stdout",
     "output_type": "stream",
     "text": [
      "\n",
      "    [Class] Map\n",
      "    A class to represent the map\n",
      "    \n",
      "    Properties:\n",
      "        - origin        : [Coordinate] map's origin coordinate\n",
      "        - end           : [Coordinate] map's end coordinate\n",
      "        - num_nodes     : Number of Nodes.\n",
      "        - nodesDict     : Dictionary of all nodes. The key used are the Open Street Map ID.\n",
      "        - nodes         : List of all nodes.\n",
      "        \n",
      "        - num_ways      : Number of Ways.\n",
      "        - waysDict      : Dictionary of all nodes. The key used are the Open Street Map ID.\n",
      "        - ways          : List of all ways.\n",
      "        \n",
      "        - num_roads     : Number of Roads.\n",
      "        - roadNodesDict : \n",
      "        - roadNodes     : \n",
      "        - roadsDict     : List of all nodes that marked as road.\n",
      "        - roads         : List of all roads.\n",
      "        \n",
      "        - num_buildings : Number of Buildings.\n",
      "        - buildings     : List of all buildings.\n",
      "        - naturals      : List of all naturals.\n",
      "        - leisures      : List of all leisures.\n",
      "        - amenities     : List of all amenities.\n",
      "        \n",
      "        - grids         : [(int,int)] Two dimensional array of grids\n",
      "        \n",
      "        - others        : List of other openstreetmap ways that yet to be categorized.\n",
      "        - gridCellHeight   : height of 1 grid in latitude\n",
      "        - gridCellWidth   : width of 1 grid in longitude\n",
      "        - gridsize      : tuple of 2 integer that shows how many grids we have\n",
      "    \n"
     ]
    }
   ],
   "source": [
    "print(map.Map.__doc__)"
   ]
  },
  {
   "cell_type": "markdown",
   "metadata": {},
   "source": [
    "## 2.2 Function Documentation"
   ]
  },
  {
   "cell_type": "code",
   "execution_count": 4,
   "metadata": {},
   "outputs": [
    {
     "name": "stdout",
     "output_type": "stream",
     "text": [
      "\n",
      "    [Function] readFile\n",
      "    Function to generate map fom osm File\n",
      "    \n",
      "    parameter:\n",
      "        - OSMfilePath : [string] path to the OSM file\n",
      "        - grid     : [(int,int)] grid size, default value = (10,10)\n",
      "    \n"
     ]
    }
   ],
   "source": [
    "print(map.readFile.__doc__)"
   ]
  },
  {
   "cell_type": "markdown",
   "metadata": {},
   "source": [
    "## 2.3 Method Documentation\n",
    "can be called from class also from objects"
   ]
  },
  {
   "cell_type": "code",
   "execution_count": 5,
   "metadata": {},
   "outputs": [
    {
     "name": "stdout",
     "output_type": "stream",
     "text": [
      "\n",
      "        [Method] setBounds\n",
      "        Re-read the filepath to setup the boundary\n",
      "        \n",
      "        Parameter:\n",
      "            - filepath : path to the OSM file\n",
      "        \n"
     ]
    }
   ],
   "source": [
    "print(map.Map.setBounds.__doc__)"
   ]
  },
  {
   "cell_type": "markdown",
   "metadata": {},
   "source": [
    "# 3. load the data\n",
    "## 3.1 setup the path"
   ]
  },
  {
   "cell_type": "code",
   "execution_count": 6,
   "metadata": {},
   "outputs": [],
   "source": [
    "dataDirectory = os.path.join(\"..\",\"osmData\")\n",
    "filename = \"JHU.osm\"\n",
    "#filename = \"London.osm\"\n",
    "filepath = os.path.join(dataDirectory,filename)"
   ]
  },
  {
   "cell_type": "markdown",
   "metadata": {},
   "source": [
    "## 3.2 Load the osm file"
   ]
  },
  {
   "cell_type": "code",
   "execution_count": 7,
   "metadata": {},
   "outputs": [],
   "source": [
    "osmMap = map.readFile(filepath)"
   ]
  },
  {
   "cell_type": "markdown",
   "metadata": {},
   "source": [
    "## 3.3 Print the data "
   ]
  },
  {
   "cell_type": "markdown",
   "metadata": {},
   "source": [
    "#### Once loaded you can print the osmMap"
   ]
  },
  {
   "cell_type": "code",
   "execution_count": 8,
   "metadata": {},
   "outputs": [
    {
     "name": "stdout",
     "output_type": "stream",
     "text": [
      "Epidemicon Map\n",
      " number of nodes = 25461\n",
      " number of ways = 3593\n",
      " number of roads = 5579\n",
      " number of roads node = 11930\n",
      " number of buildings = 1784\n",
      "\n"
     ]
    }
   ],
   "source": [
    "print(osmMap)"
   ]
  },
  {
   "cell_type": "markdown",
   "metadata": {},
   "source": [
    "#### print a node"
   ]
  },
  {
   "cell_type": "code",
   "execution_count": 9,
   "metadata": {},
   "outputs": [
    {
     "name": "stdout",
     "output_type": "stream",
     "text": [
      "id: 49384405\n",
      "lat = 39.3247408 lon = -76.6221331\n",
      "number of ways : 2\n",
      "number of connections : 3\n",
      "Tags : \n",
      "\n",
      "\n"
     ]
    }
   ],
   "source": [
    "node = osmMap.nodes[0]\n",
    "print(node)"
   ]
  },
  {
   "cell_type": "markdown",
   "metadata": {},
   "source": [
    "#### print a way\n",
    "Way is the Open Street Map representation of path"
   ]
  },
  {
   "cell_type": "code",
   "execution_count": 10,
   "metadata": {},
   "outputs": [
    {
     "name": "stdout",
     "output_type": "stream",
     "text": [
      "id: 5992515\n",
      "number of nodes : 5\n",
      "Tags : \n",
      "\taccess : permissive\n",
      "\thighway : service\n",
      "\tservice : alley\n",
      "\ttiger:cfcc : A41\n",
      "\ttiger:county : Baltimore-City, MD\n",
      "\ttiger:zip_left : 21211\n",
      "\ttiger:zip_right : 21211\n",
      "\n",
      "\n"
     ]
    }
   ],
   "source": [
    "way = osmMap.ways[0]\n",
    "print(way)"
   ]
  },
  {
   "cell_type": "markdown",
   "metadata": {},
   "source": [
    "#### Print a road\n",
    "Road is the edges between 2 nodes"
   ]
  },
  {
   "cell_type": "code",
   "execution_count": 11,
   "metadata": {},
   "outputs": [
    {
     "name": "stdout",
     "output_type": "stream",
     "text": [
      "staring = (lat = 39.3237363, lon = -76.6293317)\n",
      "destination = (lat = 39.3235521, lon = -76.6289185)\n",
      "distance = 0.04108205416084137km\n"
     ]
    }
   ],
   "source": [
    "road = osmMap.roads[0]\n",
    "print(road)"
   ]
  },
  {
   "cell_type": "markdown",
   "metadata": {},
   "source": [
    "#### Print summarized road information"
   ]
  },
  {
   "cell_type": "code",
   "execution_count": 12,
   "metadata": {},
   "outputs": [
    {
     "name": "stdout",
     "output_type": "stream",
     "text": [
      "Type of roads contained in this map\n",
      "service = 1053\n",
      "residential = 488\n",
      "primary = 318\n",
      "tertiary = 222\n",
      "secondary = 16\n",
      "footway = 2779\n",
      "cycleway = 22\n",
      "steps = 124\n",
      "track = 15\n",
      "pedestrian = 75\n",
      "path = 335\n",
      "unclassified = 107\n",
      "primary_link = 25\n"
     ]
    }
   ],
   "source": [
    "osmMap.summarizeRoad()"
   ]
  },
  {
   "cell_type": "markdown",
   "metadata": {},
   "source": [
    "#### Print a building"
   ]
  },
  {
   "cell_type": "code",
   "execution_count": 13,
   "metadata": {},
   "outputs": [
    {
     "name": "stdout",
     "output_type": "stream",
     "text": [
      "[Building]\n",
      "id: 51724390\n",
      "number of nodes : 5\n",
      "Tags : \n",
      "\tbuilding : yes\n",
      "\tleisure : stadium\n",
      "\tname : Schelle Pavilion\n",
      "\n",
      "\n"
     ]
    }
   ],
   "source": [
    "building = osmMap.buildings[0]\n",
    "print(building)"
   ]
  },
  {
   "cell_type": "markdown",
   "metadata": {},
   "source": [
    "#### print summarized building information"
   ]
  },
  {
   "cell_type": "code",
   "execution_count": 14,
   "metadata": {
    "scrolled": true
   },
   "outputs": [
    {
     "name": "stdout",
     "output_type": "stream",
     "text": [
      "Type of buildings contained in this map\n",
      "yes = 1566\n",
      "university = 46\n",
      "clinic = 1\n",
      "library = 1\n",
      "parking = 2\n",
      "industrial = 4\n",
      "school = 1\n",
      "garage = 22\n",
      "terrace = 93\n",
      "apartments = 12\n",
      "garages = 1\n",
      "retail = 2\n",
      "bank = 1\n",
      "dormitory = 6\n",
      "detached = 1\n",
      "church = 3\n",
      "place_of_worship = 2\n",
      "synagogue = 1\n",
      "service = 1\n",
      "shelter = 3\n",
      "shed = 2\n",
      "house = 7\n",
      "commercial = 2\n",
      "greenhouse = 1\n",
      "office = 1\n",
      "childcare = 1\n",
      "residential = 1\n"
     ]
    }
   ],
   "source": [
    "osmMap.summarizeBuilding()"
   ]
  },
  {
   "cell_type": "markdown",
   "metadata": {},
   "source": [
    "#### print a grid"
   ]
  },
  {
   "cell_type": "code",
   "execution_count": 15,
   "metadata": {
    "scrolled": true
   },
   "outputs": [
    {
     "name": "stdout",
     "output_type": "stream",
     "text": [
      "Grid\n",
      "\tstarting = (lat = 39.3233, lon = -76.6289)\n",
      "\tend = (lat = 39.324600000000004, lon = -76.62753000000001)\n",
      "\tnodes = 507\n",
      "\tbuildings = 87\n",
      "\troads = 97\n",
      "\n"
     ]
    }
   ],
   "source": [
    "grid = osmMap.grids[0][0]\n",
    "print(grid)"
   ]
  },
  {
   "cell_type": "code",
   "execution_count": 16,
   "metadata": {},
   "outputs": [
    {
     "name": "stdout",
     "output_type": "stream",
     "text": [
      "Grid\n",
      "\tstarting = (lat = 39.324600000000004, lon = -76.6289)\n",
      "\tend = (lat = 39.325900000000004, lon = -76.62753000000001)\n",
      "\tnodes = 451\n",
      "\tbuildings = 87\n",
      "\troads = 61\n",
      "\n"
     ]
    }
   ],
   "source": [
    "grid = osmMap.grids[0][1]\n",
    "print(grid)"
   ]
  },
  {
   "cell_type": "code",
   "execution_count": 17,
   "metadata": {},
   "outputs": [
    {
     "name": "stdout",
     "output_type": "stream",
     "text": [
      "Grid\n",
      "\tstarting = (lat = 39.3233, lon = -76.62753000000001)\n",
      "\tend = (lat = 39.324600000000004, lon = -76.62616000000001)\n",
      "\tnodes = 165\n",
      "\tbuildings = 0\n",
      "\troads = 147\n",
      "\n"
     ]
    }
   ],
   "source": [
    "grid = osmMap.grids[1][0]\n",
    "print(grid)"
   ]
  },
  {
   "cell_type": "markdown",
   "metadata": {},
   "source": [
    "# 4. Render the map"
   ]
  },
  {
   "cell_type": "code",
   "execution_count": 18,
   "metadata": {},
   "outputs": [],
   "source": [
    "import lib.Renderer.Renderer as renderer\n",
    "renderer.render(osmMap)"
   ]
  },
  {
   "cell_type": "code",
   "execution_count": null,
   "metadata": {},
   "outputs": [],
   "source": []
  }
 ],
 "metadata": {
  "kernelspec": {
   "display_name": "Python 3",
   "language": "python",
   "name": "python3"
  },
  "language_info": {
   "codemirror_mode": {
    "name": "ipython",
    "version": 3
   },
   "file_extension": ".py",
   "mimetype": "text/x-python",
   "name": "python",
   "nbconvert_exporter": "python",
   "pygments_lexer": "ipython3",
   "version": "3.6.9"
  }
 },
 "nbformat": 4,
 "nbformat_minor": 2
}
