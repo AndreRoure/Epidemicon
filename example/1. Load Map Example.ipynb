{
 "cells": [
  {
   "cell_type": "markdown",
   "metadata": {},
   "source": [
    "# 1. Load Library\n",
    "## 1.1 Load Global Library\n",
    "Load global library here, because we will change the path to library when we load the local library"
   ]
  },
  {
   "cell_type": "code",
   "execution_count": 1,
   "metadata": {},
   "outputs": [],
   "source": [
    "import sys\n",
    "import os"
   ]
  },
  {
   "cell_type": "markdown",
   "metadata": {},
   "source": [
    "## 1.2 Load Local Library"
   ]
  },
  {
   "cell_type": "code",
   "execution_count": 2,
   "metadata": {},
   "outputs": [],
   "source": [
    "# change the library read path\n",
    "sys.path.append(os.path.join(os.getcwd() , \"..\"))\n",
    "\n",
    "# load local library\n",
    "import lib.Map.Map as map\n",
    "import lib.Renderer.Renderer as renderer"
   ]
  },
  {
   "cell_type": "markdown",
   "metadata": {},
   "source": [
    "# 2. How to use the documentation\n",
    "\n",
    "To keep it simple, you can read the documentation on the fly by calling printing \\_\\_doc\\_\\_ attribute \n",
    "\n",
    "## 2.1 Class documentation"
   ]
  },
  {
   "cell_type": "code",
   "execution_count": 3,
   "metadata": {},
   "outputs": [
    {
     "name": "stdout",
     "output_type": "stream",
     "text": [
      "\n",
      "    [Class] Map\n",
      "    A class to represent the map\n",
      "    \n",
      "    Properties:\n",
      "        - origin        : [Coordinate] map's origin coordinate\n",
      "        - end           : [Coordinate] map's end coordinate\n",
      "        - num_nodes     : Number of Nodes.\n",
      "        - nodesDict     : Dictionary of all nodes. The key used are the Open Street Map ID.\n",
      "        - nodes         : List of all nodes.\n",
      "        \n",
      "        - num_ways      : Number of Ways.\n",
      "        - waysDict      : Dictionary of all nodes. The key used are the Open Street Map ID.\n",
      "        - ways          : List of all ways.\n",
      "        \n",
      "        - num_roads     : Number of Roads.\n",
      "        - roadNodesDict : \n",
      "        - roadNodes     : \n",
      "        - roadsDict     : List of all nodes that marked as road.\n",
      "        - roads         : List of all roads.\n",
      "        \n",
      "        - num_buildings : Number of Buildings.\n",
      "        - buildings     : List of all buildings.\n",
      "        - naturals      : List of all naturals.\n",
      "        - leisures      : List of all leisures.\n",
      "        - amenities     : List of all amenities.\n",
      "        \n",
      "        - grids         : [(int,int)] Two dimensional array of grids\n",
      "        \n",
      "        - others        : List of other openstreetmap ways that yet to be categorized.\n",
      "        - distanceLat   : height of 1 grid in latitude\n",
      "        - distanceLon   : width of 1 grid in longitude\n",
      "        - gridsize      : tuple of 2 integer that shows how many grids we have\n",
      "    \n"
     ]
    }
   ],
   "source": [
    "print(map.Map.__doc__)"
   ]
  },
  {
   "cell_type": "markdown",
   "metadata": {},
   "source": [
    "## 2.2 Function Documentation"
   ]
  },
  {
   "cell_type": "code",
   "execution_count": 4,
   "metadata": {},
   "outputs": [
    {
     "name": "stdout",
     "output_type": "stream",
     "text": [
      "\n",
      "    [Function] readFile\n",
      "    Function to generate map fom osm File\n",
      "    \n",
      "    parameter:\n",
      "        - filepath : [string] path to the OSM file\n",
      "        - grid     : [(int,int)] grid size, default value = (10,10)\n",
      "    \n"
     ]
    }
   ],
   "source": [
    "print(map.readFile.__doc__)"
   ]
  },
  {
   "cell_type": "markdown",
   "metadata": {},
   "source": [
    "## 2.3 Method Documentation\n",
    "can be called from class also from objects"
   ]
  },
  {
   "cell_type": "code",
   "execution_count": 5,
   "metadata": {},
   "outputs": [
    {
     "name": "stdout",
     "output_type": "stream",
     "text": [
      "\n",
      "        [Method] __str__\n",
      "        Setup the bounds using the file path\n",
      "        \n",
      "        Parameter:\n",
      "            - filepath : path to the OSM file\n",
      "        \n"
     ]
    }
   ],
   "source": [
    "print(map.Map.setBounds.__doc__)"
   ]
  },
  {
   "cell_type": "markdown",
   "metadata": {},
   "source": [
    "# 3. load the data\n",
    "## 3.1 setup the path"
   ]
  },
  {
   "cell_type": "code",
   "execution_count": 6,
   "metadata": {},
   "outputs": [],
   "source": [
    "dataDirectory = os.path.join(\"..\",\"osmData\")\n",
    "filename = \"TX-To-TU.osm\"\n",
    "#filename = \"London.osm\"\n",
    "filepath = os.path.join(dataDirectory,filename)"
   ]
  },
  {
   "cell_type": "markdown",
   "metadata": {},
   "source": [
    "## 3.2 Load the osm file"
   ]
  },
  {
   "cell_type": "code",
   "execution_count": 7,
   "metadata": {},
   "outputs": [
    {
     "name": "stdout",
     "output_type": "stream",
     "text": [
      "Coordinate (lat = 0.04399999999999693, lon = 0.02800000000002001)\n",
      "0.002800000000002001,0.004399999999999693\n",
      "error, Heron's formula is not working due to very small angle\n"
     ]
    }
   ],
   "source": [
    "osmMap = map.readFile(filepath)"
   ]
  },
  {
   "cell_type": "markdown",
   "metadata": {},
   "source": [
    "## 3.3 Print the data "
   ]
  },
  {
   "cell_type": "markdown",
   "metadata": {},
   "source": [
    "#### Once loaded you can print the osmMap"
   ]
  },
  {
   "cell_type": "code",
   "execution_count": 8,
   "metadata": {},
   "outputs": [
    {
     "name": "stdout",
     "output_type": "stream",
     "text": [
      "Epidemicon Map\n",
      " number of nodes = 22469\n",
      " number of ways = 3681\n",
      " number of roads = 8134\n",
      " number of roads node = 10760\n",
      " number of buildings = 1764\n",
      "\n"
     ]
    }
   ],
   "source": [
    "print(osmMap)"
   ]
  },
  {
   "cell_type": "markdown",
   "metadata": {},
   "source": [
    "#### print a node"
   ]
  },
  {
   "cell_type": "code",
   "execution_count": 9,
   "metadata": {},
   "outputs": [
    {
     "name": "stdout",
     "output_type": "stream",
     "text": [
      "id: 271818951\n",
      "lat = 36.0803411 lon = 140.1132446\n",
      "number of ways : 4\n",
      "number of connections : 4\n",
      "Tags : \n",
      "\thighway : traffic_signals\n",
      "\tname : 大清水公園西\n",
      "\n",
      "\n"
     ]
    }
   ],
   "source": [
    "node = osmMap.nodes[0]\n",
    "print(node)"
   ]
  },
  {
   "cell_type": "markdown",
   "metadata": {},
   "source": [
    "#### print a way\n",
    "Way is the Open Street Map representation of path"
   ]
  },
  {
   "cell_type": "code",
   "execution_count": 10,
   "metadata": {},
   "outputs": [
    {
     "name": "stdout",
     "output_type": "stream",
     "text": [
      "id: 25004204\n",
      "number of nodes : 5\n",
      "Tags : \n",
      "\thighway : trunk\n",
      "\tlanes : 2\n",
      "\tname : 学園西大通り\n",
      "\tname:en : Gakuen-west-odori Avenue\n",
      "\tname:ja : 学園西大通り\n",
      "\tname:ja-Hira : がくえんにしおおどおり\n",
      "\tname:ja-Latn : Gakuen-nishi-odori\n",
      "\tofficial_name : 一般国道408号\n",
      "\toneway : yes\n",
      "\tref : 408\n",
      "\tsource : GSImaps/std\n",
      "\tsurface : paved\n",
      "\n",
      "\n"
     ]
    }
   ],
   "source": [
    "way = osmMap.ways[0]\n",
    "print(way)"
   ]
  },
  {
   "cell_type": "markdown",
   "metadata": {},
   "source": [
    "#### Print a road\n",
    "Road is the edges between 2 nodes"
   ]
  },
  {
   "cell_type": "code",
   "execution_count": 11,
   "metadata": {},
   "outputs": [
    {
     "name": "stdout",
     "output_type": "stream",
     "text": [
      "staring = (lat = 36.0960021, lon = 140.0957846)\n",
      "destination = (lat = 36.0954825, lon = 140.0965378)\n",
      "distance = 0.08902197603665922km\n"
     ]
    }
   ],
   "source": [
    "road = osmMap.roads[0]\n",
    "print(road)"
   ]
  },
  {
   "cell_type": "markdown",
   "metadata": {},
   "source": [
    "#### Print summarized road information"
   ]
  },
  {
   "cell_type": "code",
   "execution_count": 12,
   "metadata": {},
   "outputs": [
    {
     "name": "stdout",
     "output_type": "stream",
     "text": [
      "Type of roads contained in this map\n",
      "trunk = 76\n",
      "tertiary = 985\n",
      "primary = 309\n",
      "secondary = 299\n",
      "footway = 1372\n",
      "unclassified = 1877\n",
      "pedestrian = 662\n",
      "residential = 1260\n",
      "service = 847\n",
      "track = 77\n",
      "path = 291\n",
      "living_street = 7\n",
      "steps = 19\n",
      "primary_link = 27\n",
      "secondary_link = 19\n",
      "trunk_link = 7\n"
     ]
    }
   ],
   "source": [
    "osmMap.summarizeRoad()"
   ]
  },
  {
   "cell_type": "markdown",
   "metadata": {},
   "source": [
    "#### Print a building"
   ]
  },
  {
   "cell_type": "code",
   "execution_count": 13,
   "metadata": {},
   "outputs": [
    {
     "name": "stdout",
     "output_type": "stream",
     "text": [
      "[Building]\n",
      "id: 133876543\n",
      "number of nodes : 5\n",
      "Tags : \n",
      "\tamenity : restaurant\n",
      "\tbuilding : yes\n",
      "\tname : MOG\n",
      "\n",
      "\n"
     ]
    }
   ],
   "source": [
    "building = osmMap.buildings[0]\n",
    "print(building)"
   ]
  },
  {
   "cell_type": "markdown",
   "metadata": {},
   "source": [
    "#### print summarized building information"
   ]
  },
  {
   "cell_type": "code",
   "execution_count": 14,
   "metadata": {},
   "outputs": [
    {
     "name": "stdout",
     "output_type": "stream",
     "text": [
      "Type of buildings contained in this map\n",
      "restaurant = 5\n",
      "retail = 26\n",
      "yes = 1364\n",
      "parking = 4\n",
      "train_station = 1\n",
      "public = 1\n",
      "police = 1\n",
      "apartments = 133\n",
      "karaoke_box = 1\n",
      "university = 9\n",
      "hall = 1\n",
      "roof = 11\n",
      "residential = 47\n",
      "house = 118\n",
      "office = 1\n",
      "commercial = 1\n",
      "shed = 8\n",
      "school = 3\n",
      "post_office = 2\n",
      "bicycle_parking = 3\n",
      "community_centre = 2\n",
      "toilets = 1\n",
      "+ = 16\n",
      "hotel = 1\n",
      "industrial = 2\n",
      "garage = 2\n"
     ]
    }
   ],
   "source": [
    "osmMap.summarizeBuilding()"
   ]
  },
  {
   "cell_type": "markdown",
   "metadata": {},
   "source": [
    "#### print a grid"
   ]
  },
  {
   "cell_type": "code",
   "execution_count": 15,
   "metadata": {},
   "outputs": [
    {
     "name": "stdout",
     "output_type": "stream",
     "text": [
      "Grid\n",
      "\tstarting = (lat = 36.0777, lon = 140.0921)\n",
      "\tend = (lat = 36.0821, lon = 140.0949)\n",
      "\tnodes = 97\n",
      "\tbuildings = 0\n",
      "\troads = 215\n",
      "\n"
     ]
    }
   ],
   "source": [
    "grid = osmMap.grids[0][0]\n",
    "print(grid)"
   ]
  },
  {
   "cell_type": "markdown",
   "metadata": {},
   "source": [
    "# 4. Render the map"
   ]
  },
  {
   "cell_type": "code",
   "execution_count": 16,
   "metadata": {},
   "outputs": [],
   "source": [
    "import lib.Renderer.Renderer as renderer\n",
    "renderer.render(osmMap)"
   ]
  },
  {
   "cell_type": "code",
   "execution_count": null,
   "metadata": {},
   "outputs": [],
   "source": []
  }
 ],
 "metadata": {
  "kernelspec": {
   "display_name": "Python 3",
   "language": "python",
   "name": "python3"
  },
  "language_info": {
   "codemirror_mode": {
    "name": "ipython",
    "version": 3
   },
   "file_extension": ".py",
   "mimetype": "text/x-python",
   "name": "python",
   "nbconvert_exporter": "python",
   "pygments_lexer": "ipython3",
   "version": "3.8.5"
  }
 },
 "nbformat": 4,
 "nbformat_minor": 2
}
