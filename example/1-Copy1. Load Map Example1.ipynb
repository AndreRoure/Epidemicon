{
 "cells": [
  {
   "cell_type": "markdown",
   "metadata": {},
   "source": [
    "# 1. Load Library\n",
    "## 1.1 Load Global Library\n",
    "Load global library here, because we will change the path to library when we load the local library"
   ]
  },
  {
   "cell_type": "code",
   "execution_count": 1,
   "metadata": {},
   "outputs": [],
   "source": [
    "import sys\n",
    "import os"
   ]
  },
  {
   "cell_type": "markdown",
   "metadata": {},
   "source": [
    "## 1.2 Load Local Library"
   ]
  },
  {
   "cell_type": "code",
   "execution_count": 2,
   "metadata": {},
   "outputs": [],
   "source": [
    "# change the library read path\n",
    "sys.path.append(os.path.join(os.getcwd() , \"..\"))\n",
    "\n",
    "# load local library\n",
    "import lib.Map.Map as map\n",
    "import lib.Renderer.Renderer as renderer"
   ]
  },
  {
   "cell_type": "markdown",
   "metadata": {},
   "source": [
    "# 2. How to use the documentation\n",
    "\n",
    "To keep it simple, you can read the documentation on the fly by calling printing \\_\\_doc\\_\\_ attribute \n",
    "\n",
    "## 2.1 Class documentation"
   ]
  },
  {
   "cell_type": "code",
   "execution_count": 3,
   "metadata": {},
   "outputs": [
    {
     "name": "stdout",
     "output_type": "stream",
     "text": [
      "\n",
      "    [Class] Map\n",
      "    A class to represent the map\n",
      "    \n",
      "    Properties:\n",
      "        - origin        : [Coordinate] map's origin coordinate\n",
      "        - end           : [Coordinate] map's end coordinate\n",
      "        - num_nodes     : Number of Nodes.\n",
      "        - nodesDict     : Dictionary of all nodes. The key used are the Open Street Map ID.\n",
      "        - nodes         : List of all nodes.\n",
      "        \n",
      "        - num_ways      : Number of Ways.\n",
      "        - waysDict      : Dictionary of all nodes. The key used are the Open Street Map ID.\n",
      "        - ways          : List of all ways.\n",
      "        \n",
      "        - num_roads     : Number of Roads.\n",
      "        - roadNodesDict : \n",
      "        - roadNodes     : \n",
      "        - roadsDict     : List of all nodes that marked as road.\n",
      "        - roads         : List of all roads.\n",
      "        \n",
      "        - num_buildings : Number of Buildings.\n",
      "        - buildings     : List of all buildings.\n",
      "        - naturals      : List of all naturals.\n",
      "        - leisures      : List of all leisures.\n",
      "        - amenities     : List of all amenities.\n",
      "        \n",
      "        - grids         : [(int,int)] Two dimensional array of grids\n",
      "        \n",
      "        - others        : List of other openstreetmap ways that yet to be categorized.\n",
      "        - distanceLat   : height of 1 grid in latitude\n",
      "        - distanceLon   : width of 1 grid in longitude\n",
      "        - gridsize      : tuple of 2 integer that shows how many grids we have\n",
      "    \n"
     ]
    }
   ],
   "source": [
    "print(map.Map.__doc__)"
   ]
  },
  {
   "cell_type": "markdown",
   "metadata": {},
   "source": [
    "## 2.2 Function Documentation"
   ]
  },
  {
   "cell_type": "code",
   "execution_count": 4,
   "metadata": {},
   "outputs": [
    {
     "name": "stdout",
     "output_type": "stream",
     "text": [
      "\n",
      "    [Function] readFile\n",
      "    Function to generate map fom osm File\n",
      "    \n",
      "    parameter:\n",
      "        - filepath : [string] path to the OSM file\n",
      "        - grid     : [(int,int)] grid size, default value = (10,10)\n",
      "    \n"
     ]
    }
   ],
   "source": [
    "print(map.readFile.__doc__)"
   ]
  },
  {
   "cell_type": "markdown",
   "metadata": {},
   "source": [
    "## 2.3 Method Documentation\n",
    "can be called from class also from objects"
   ]
  },
  {
   "cell_type": "code",
   "execution_count": 5,
   "metadata": {},
   "outputs": [
    {
     "name": "stdout",
     "output_type": "stream",
     "text": [
      "\n",
      "        [Method] setBounds\n",
      "        Re-read the filepath to setup the boundary\n",
      "        \n",
      "        Parameter:\n",
      "            - filepath : path to the OSM file\n",
      "        \n"
     ]
    }
   ],
   "source": [
    "print(map.Map.setBounds.__doc__)"
   ]
  },
  {
   "cell_type": "markdown",
   "metadata": {},
   "source": [
    "# 3. load the data\n",
    "## 3.1 setup the path"
   ]
  },
  {
   "cell_type": "code",
   "execution_count": 6,
   "metadata": {},
   "outputs": [],
   "source": [
    "dataDirectory = os.path.join(\"..\",\"osmData\")\n",
    "filename = \"TX-To-TU.osm\"\n",
    "#filename = \"London.osm\"\n",
    "filepath = os.path.join(dataDirectory,filename)\n",
    "\n",
    "buildingConfigPath = os.path.join(\"..\",\"config\",\"tsukuba-tu-building-data.csv\")"
   ]
  },
  {
   "cell_type": "markdown",
   "metadata": {},
   "source": [
    "## 3.2 Load the osm file"
   ]
  },
  {
   "cell_type": "code",
   "execution_count": 7,
   "metadata": {},
   "outputs": [
    {
     "name": "stdout",
     "output_type": "stream",
     "text": [
      "0.002800000000002001,0.004399999999999693\n",
      "error, Heron's formula is not working due to very small angle\n",
      "['9', '0', '0', 'All', 'laboratory']\n",
      "['9', '0', '1', 'All', 'residential']\n",
      "['9', '0', '2', '1', 'barbershop']\n",
      "['9', '0', '2', '1', 'retail']\n",
      "['9', '0', '2', 'All', 'residential']\n",
      "['8', '1', '0', '5', 'office']\n",
      "['8', '1', '0', 'All', 'residential']\n",
      "['8', '1', '1', 'All', 'laboratory']\n",
      "['8', '1', '2', 'All', 'residential']\n",
      "['8', '1', '3', 'All', 'laboratory']\n",
      "['8', '1', '4', 'All', 'university']\n",
      "['8', '1', '7', '3', 'retail']\n",
      "['8', '1', '7', 'All', 'office']\n",
      "['8', '1', '8', '1', 'clinic']\n",
      "['8', '1', '8', '1', 'residential']\n",
      "['8', '1', '8', '1', 'skill school']\n",
      "['8', '1', '8', 'All', 'retail']\n",
      "['7', '2', '1', 'All', 'laboratory']\n",
      "['7', '2', '2', 'All', 'university']\n",
      "['7', '2', '3', '1', 'retail']\n",
      "['7', '2', '3', '3', 'residential']\n",
      "['7', '2', '3', 'All', 'university']\n",
      "['7', '2', '4', 'All', 'laboratory']\n",
      "['7', '2', '5', '4', 'house']\n",
      "['7', '2', '5', '4', 'residential']\n",
      "['7', '2', '5', '4', 'residential']\n",
      "['7', '2', '5', '4', 'residential']\n",
      "['7', '2', '5', 'All', 'apartments']\n",
      "['7', '2', '6', '1', 'house']\n",
      "['7', '2', '6', '1', 'office']\n",
      "['7', '2', '6', '1', 'university']\n",
      "['7', '2', '6', '3', 'retail']\n",
      "['7', '2', '6', '4', 'residential']\n",
      "['7', '2', '6', 'All', 'apartments']\n",
      "['7', '2', '7', '1', 'office']\n",
      "['7', '2', '7', '2', 'retail']\n",
      "['7', '2', '7', 'All', 'apartments']\n",
      "['7', '2', '7', 'All', 'apartments']\n",
      "['7', '2', '8', '1', 'office']\n",
      "['7', '2', '8', 'All', 'retail']\n",
      "['6', '3', '0', '2', 'apartments']\n",
      "['6', '3', '0', 'All', 'house']\n",
      "['6', '3', '1', '1', 'pachinko']\n",
      "['6', '3', '1', 'All', 'house']\n",
      "['6', '3', '2', '13', 'laboratory']\n",
      "['6', '3', '3', '1', 'barbershop']\n",
      "['6', '3', '4', '1', 'church']\n",
      "['6', '3', '4', '1', 'office']\n",
      "['6', '3', '4', '1', 'residential']\n",
      "['6', '3', '4', '1', 'retail']\n",
      "['6', '3', '4', 'All', 'apartments']\n",
      "['6', '3', '5', '1', 'retail']\n",
      "['6', '3', '5', '3', 'residential']\n",
      "['6', '3', '5', '5', 'apartments']\n",
      "['6', '3', '5', 'All', 'university']\n",
      "['6', '3', '6', '4', 'retail']\n",
      "['6', '3', '6', '15', 'residential']\n",
      "['6', '3', '6', 'All', 'apartments']\n",
      "['6', '3', '7', '1', 'clinic']\n",
      "['6', '3', '7', '1', 'office']\n",
      "['6', '3', '7', '3', 'barbershop']\n",
      "['6', '3', '7', '4', 'retail']\n",
      "['6', '3', '7', 'All', 'apartments']\n",
      "['6', '3', '8', '2', 'residential']\n",
      "['6', '3', '8', 'All', 'apartments']\n",
      "['5', '4', '0', '1', 'house']\n",
      "['5', '4', '0', 'All', 'apartments']\n",
      "['5', '4', '1', 'All', 'house']\n",
      "['5', '4', '2', '2', 'barbershop']\n",
      "['5', '4', '2', '4', 'house']\n",
      "['5', '4', '2', '4', 'residential']\n",
      "['5', '4', '2', 'All', 'apartments']\n",
      "['5', '4', '3', '2', 'residential']\n",
      "['5', '4', '3', '4', 'hall']\n",
      "['5', '4', '3', '8', 'apartments']\n",
      "['5', '4', '3', 'All', 'university']\n",
      "['5', '4', '4', 'All', 'university']\n",
      "['5', '4', '5', 'All', 'university']\n",
      "['5', '4', '6', 'All', 'museum']\n",
      "['5', '4', '7', 'All', 'museum']\n",
      "['4', '5', '0', '1', 'nursery']\n",
      "['4', '5', '0', 'All', 'miscellaneous']\n",
      "['4', '5', '1', '1', 'clinic']\n",
      "['4', '5', '1', '1', 'karaoke_box']\n",
      "['4', '5', '1', '1', 'skill school']\n",
      "['4', '5', '1', '2', 'residential']\n",
      "['4', '5', '1', '2', 'retail']\n",
      "['4', '5', '1', 'All', 'apartments']\n",
      "['4', '5', '2', '1', 'barbershop']\n",
      "['4', '5', '2', '1', 'university']\n",
      "['4', '5', '2', '2', 'retail']\n",
      "['4', '5', '2', '3', 'restaurant']\n",
      "['4', '5', '2', 'All', 'apartments']\n",
      "['4', '5', '3', '1', 'retail']\n",
      "['4', '5', '3', '3', 'restaurant']\n",
      "['4', '5', '3', '3', 'university']\n",
      "['4', '5', '3', '4', 'residential']\n",
      "['4', '5', '3', 'All', 'apartments']\n",
      "['4', '5', '4', '1', 'office']\n",
      "['4', '5', '4', '1', 'retail']\n",
      "['4', '5', '4', '2', 'restaurant']\n",
      "['4', '5', '4', 'All', 'residential']\n",
      "['4', '5', '5', '4', 'restaurant']\n",
      "['4', '5', '5', 'All', 'apartments']\n",
      "['4', '5', '6', 'All', 'museum']\n",
      "['4', '5', '8', 'All', 'hall']\n",
      "['3', '6', '0', '1', 'office']\n",
      "['3', '6', '0', '2', 'apartments']\n",
      "['3', '6', '0', 'All', 'house']\n",
      "['3', '6', '1', '1', 'laboratory']\n",
      "['3', '6', '1', '1', 'restaurant']\n",
      "['3', '6', '1', 'All', 'house']\n",
      "['3', '6', '2', '3', 'laboratory']\n",
      "['3', '6', '2', 'All', 'apartments']\n",
      "['3', '6', '3', '1', 'hospital']\n",
      "['3', '6', '3', 'All', 'laboratory']\n",
      "['3', '6', '4', '1', 'hospital']\n",
      "['3', '6', '4', '2', 'laboratory']\n",
      "['3', '6', '4', 'All', 'residential']\n",
      "['3', '6', '5', '1', 'barbershop']\n",
      "['3', '6', '5', '1', 'school']\n",
      "['3', '6', '5', '4', 'retail']\n",
      "['3', '6', '5', '6', 'restaurant']\n",
      "['3', '6', '5', 'All', 'apartments']\n",
      "['3', '6', '6', '1', 'karaoke_box']\n",
      "['3', '6', '6', '1', 'retail']\n",
      "['3', '6', '6', 'All', 'apartments']\n",
      "['3', '6', '7', 'All', 'apartments']\n",
      "['2', '7', '1', 'All', 'apartments']\n",
      "['2', '7', '2', '1', 'laboratory']\n",
      "['2', '7', '2', '2', 'restaurant']\n",
      "['2', '7', '2', '2', 'retail']\n",
      "['2', '7', '2', 'All', 'apartments']\n",
      "['2', '7', '3', '3', 'office']\n",
      "['2', '7', '3', 'All', 'apartments']\n",
      "['2', '7', '4', '1', 'hospital']\n",
      "['2', '7', '4', '1', 'university']\n",
      "['2', '7', '4', 'All', 'apartments']\n",
      "['2', '7', '5', '2', 'hall']\n",
      "['2', '7', '5', '3', 'university']\n",
      "['2', '7', '5', 'All', 'laboratory']\n",
      "['2', '7', '6', '1', 'restaurant']\n",
      "['2', '7', '6', '1', 'retail']\n",
      "['2', '7', '6', 'All', 'apartments']\n",
      "['2', '7', '7', '1', 'clinic']\n",
      "['2', '7', '7', '2', 'hospital']\n",
      "['2', '7', '7', '3', 'restaurant']\n",
      "['2', '7', '7', '3', 'retail']\n",
      "['2', '7', '7', 'All', 'apartments']\n",
      "['2', '7', '8', '1', 'laboratory']\n",
      "['2', '7', '8', '1', 'skill school']\n",
      "['2', '7', '8', 'All', 'apartments']\n",
      "['1', '8', '0', '3', 'retail']\n",
      "['1', '8', '0', 'All', 'house']\n",
      "['1', '8', '1', '1', 'apartments']\n",
      "['1', '8', '1', '1', 'clinic']\n",
      "['1', '8', '1', '1', 'restaurant']\n",
      "['1', '8', '1', '1', 'retail']\n",
      "['1', '8', '1', '1', 'skill school']\n",
      "['1', '8', '1', 'All', 'house']\n",
      "['1', '8', '2', '1', 'restaurant']\n",
      "['1', '8', '2', '1', 'retail']\n",
      "['1', '8', '2', '2', 'office']\n",
      "['1', '8', '2', 'All', 'apartments']\n",
      "['1', '8', '3', '1', 'office']\n",
      "['1', '8', '3', '1', 'restaurant']\n",
      "['1', '8', '3', '1', 'retail']\n",
      "['1', '8', '3', '1', 'skill school']\n",
      "['1', '8', '3', '2', 'barbershop']\n",
      "['1', '8', '3', 'All', 'apartments']\n",
      "['1', '8', '4', '1', 'restaurant']\n",
      "['1', '8', '4', 'All', 'office']\n",
      "['1', '8', '5', '1', 'restaurant']\n",
      "['1', '8', '5', '1', 'university']\n",
      "['1', '8', '5', 'All', 'residential']\n",
      "['1', '8', '6', '4', 'museum']\n",
      "['1', '8', '6', 'All', 'school']\n",
      "['1', '8', '7', '1', 'hotel']\n",
      "['1', '8', '7', '1', 'skill school']\n",
      "['1', '8', '7', 'All', 'apartments']\n",
      "['1', '8', '8', '1', 'school']\n",
      "['1', '8', '8', '3', 'office']\n",
      "['1', '8', '8', 'All', 'apartments']\n",
      "['1', '8', '9', 'All', 'apartments']\n",
      "['0', '9', '1', '1', 'nursery']\n",
      "['0', '9', '1', 'All', 'school']\n",
      "['0', '9', '5', '1', 'hall']\n",
      "['0', '9', '5', '1', 'restaurant']\n",
      "['0', '9', '5', '2', 'hotel']\n",
      "['0', '9', '5', 'All', 'apartments']\n",
      "['0', '9', '6', '1', 'hotel']\n",
      "['0', '9', '6', '1', 'mall']\n",
      "['0', '9', '6', 'All', 'office']\n",
      "['0', '9', '7', '1', 'apartments']\n",
      "['0', '9', '7', '2', 'office']\n",
      "['0', '9', '7', 'All', 'mall']\n",
      "['0', '9', '8', '1', 'hall']\n",
      "['0', '9', '8', '2', 'mall']\n",
      "['0', '9', '8', '3', 'apartments']\n",
      "['0', '9', '8', 'All', 'office']\n",
      "['0', '9', '9', '1', 'mall']\n",
      "['0', '9', '9', '1', 'office']\n",
      "['0', '9', '9', 'All', 'apartments']\n"
     ]
    }
   ],
   "source": [
    "osmMap = map.readFile(filepath,buildingCSV = buildingConfigPath)"
   ]
  },
  {
   "cell_type": "markdown",
   "metadata": {},
   "source": [
    "## 3.3 Print the data "
   ]
  },
  {
   "cell_type": "markdown",
   "metadata": {},
   "source": [
    "#### Once loaded you can print the osmMap"
   ]
  },
  {
   "cell_type": "code",
   "execution_count": 8,
   "metadata": {},
   "outputs": [
    {
     "name": "stdout",
     "output_type": "stream",
     "text": [
      "Epidemicon Map\n",
      " number of nodes = 22469\n",
      " number of ways = 3681\n",
      " number of roads = 8134\n",
      " number of roads node = 10760\n",
      " number of buildings = 1752\n",
      "\n"
     ]
    }
   ],
   "source": [
    "print(osmMap)"
   ]
  },
  {
   "cell_type": "markdown",
   "metadata": {},
   "source": [
    "#### print a node"
   ]
  },
  {
   "cell_type": "code",
   "execution_count": 9,
   "metadata": {},
   "outputs": [
    {
     "name": "stdout",
     "output_type": "stream",
     "text": [
      "id: 271818951\n",
      "lat = 36.0803411 lon = 140.1132446\n",
      "number of ways : 4\n",
      "number of connections : 4\n",
      "Tags : \n",
      "\thighway : traffic_signals\n",
      "\tname : 大清水公園西\n",
      "\n",
      "\n"
     ]
    }
   ],
   "source": [
    "node = osmMap.nodes[0]\n",
    "print(node)"
   ]
  },
  {
   "cell_type": "markdown",
   "metadata": {},
   "source": [
    "#### print a way\n",
    "Way is the Open Street Map representation of path"
   ]
  },
  {
   "cell_type": "code",
   "execution_count": 10,
   "metadata": {},
   "outputs": [
    {
     "name": "stdout",
     "output_type": "stream",
     "text": [
      "id: 25004204\n",
      "number of nodes : 5\n",
      "Tags : \n",
      "\thighway : trunk\n",
      "\tlanes : 2\n",
      "\tname : 学園西大通り\n",
      "\tname:en : Gakuen-west-odori Avenue\n",
      "\tname:ja : 学園西大通り\n",
      "\tname:ja-Hira : がくえんにしおおどおり\n",
      "\tname:ja-Latn : Gakuen-nishi-odori\n",
      "\tofficial_name : 一般国道408号\n",
      "\toneway : yes\n",
      "\tref : 408\n",
      "\tsource : GSImaps/std\n",
      "\tsurface : paved\n",
      "\n",
      "\n"
     ]
    }
   ],
   "source": [
    "way = osmMap.ways[0]\n",
    "print(way)"
   ]
  },
  {
   "cell_type": "markdown",
   "metadata": {},
   "source": [
    "#### Print a road\n",
    "Road is the edges between 2 nodes"
   ]
  },
  {
   "cell_type": "code",
   "execution_count": 11,
   "metadata": {},
   "outputs": [
    {
     "name": "stdout",
     "output_type": "stream",
     "text": [
      "staring = (lat = 36.0960021, lon = 140.0957846)\n",
      "destination = (lat = 36.0954825, lon = 140.0965378)\n",
      "distance = 0.08902197603665883km\n"
     ]
    }
   ],
   "source": [
    "road = osmMap.roads[0]\n",
    "print(road)"
   ]
  },
  {
   "cell_type": "markdown",
   "metadata": {},
   "source": [
    "#### Print summarized road information"
   ]
  },
  {
   "cell_type": "code",
   "execution_count": 12,
   "metadata": {},
   "outputs": [
    {
     "name": "stdout",
     "output_type": "stream",
     "text": [
      "Type of roads contained in this map\n",
      "trunk = 76\n",
      "tertiary = 985\n",
      "primary = 309\n",
      "secondary = 299\n",
      "footway = 1372\n",
      "unclassified = 1877\n",
      "pedestrian = 662\n",
      "residential = 1260\n",
      "service = 847\n",
      "track = 77\n",
      "path = 291\n",
      "living_street = 7\n",
      "steps = 19\n",
      "primary_link = 27\n",
      "secondary_link = 19\n",
      "trunk_link = 7\n"
     ]
    }
   ],
   "source": [
    "osmMap.summarizeRoad()"
   ]
  },
  {
   "cell_type": "markdown",
   "metadata": {},
   "source": [
    "#### Print a building"
   ]
  },
  {
   "cell_type": "code",
   "execution_count": 13,
   "metadata": {},
   "outputs": [
    {
     "name": "stdout",
     "output_type": "stream",
     "text": [
      "[Building]\n",
      "id: 133876543\n",
      "number of nodes : 5\n",
      "Tags : \n",
      "\tamenity : restaurant\n",
      "\tbuilding : yes\n",
      "\tname : MOG\n",
      "\n",
      "\n"
     ]
    }
   ],
   "source": [
    "building = osmMap.buildings[0]\n",
    "print(building)"
   ]
  },
  {
   "cell_type": "markdown",
   "metadata": {},
   "source": [
    "#### print summarized building information"
   ]
  },
  {
   "cell_type": "code",
   "execution_count": 14,
   "metadata": {},
   "outputs": [
    {
     "name": "stdout",
     "output_type": "stream",
     "text": [
      "Type of buildings contained in this map\n",
      "restaurant = 36\n",
      "retail = 68\n",
      "apartments = 796\n",
      "parking = 4\n",
      "hotel = 5\n",
      "skill school = 6\n",
      "office = 52\n",
      "train_station = 1\n",
      "public = 1\n",
      "police = 1\n",
      "hall = 9\n",
      "mall = 11\n",
      "church = 1\n",
      "laboratory = 80\n",
      "clinic = 4\n",
      "hospital = 5\n",
      "school = 25\n",
      "university = 172\n",
      "residential = 166\n",
      "museum = 12\n",
      "barbershop = 8\n",
      "karaoke_box = 3\n",
      "roof = 11\n",
      "nursery = 2\n",
      "house = 188\n",
      "commercial = 1\n",
      "shed = 8\n",
      "yes = 61\n",
      "post_office = 2\n",
      "bicycle_parking = 3\n",
      "community_centre = 2\n",
      "toilets = 1\n",
      "pachinko = 1\n",
      "industrial = 2\n",
      "garage = 2\n",
      "miscellaneous = 2\n"
     ]
    }
   ],
   "source": [
    "osmMap.summarizeBuilding()"
   ]
  },
  {
   "cell_type": "markdown",
   "metadata": {},
   "source": [
    "#### print a grid"
   ]
  },
  {
   "cell_type": "code",
   "execution_count": 15,
   "metadata": {},
   "outputs": [
    {
     "name": "stdout",
     "output_type": "stream",
     "text": [
      "Grid\n",
      "\tstarting = (lat = 36.0777, lon = 140.0921)\n",
      "\tend = (lat = 36.0821, lon = 140.0949)\n",
      "\tnodes = 97\n",
      "\tbuildings = 0\n",
      "\troads = 215\n",
      "\n"
     ]
    }
   ],
   "source": [
    "grid = osmMap.grids[0][0]\n",
    "print(grid)"
   ]
  },
  {
   "cell_type": "code",
   "execution_count": 16,
   "metadata": {},
   "outputs": [
    {
     "name": "stdout",
     "output_type": "stream",
     "text": [
      "Grid\n",
      "\tstarting = (lat = 36.11729999999997, lon = 140.0949)\n",
      "\tend = (lat = 36.12169999999997, lon = 140.0977)\n",
      "\tnodes = 223\n",
      "\tbuildings = 17\n",
      "\troads = 130\n",
      "\n"
     ]
    }
   ],
   "source": [
    "grid = osmMap.grids[1][9]\n",
    "print(grid)"
   ]
  },
  {
   "cell_type": "code",
   "execution_count": 17,
   "metadata": {},
   "outputs": [
    {
     "name": "stdout",
     "output_type": "stream",
     "text": [
      "[Building]\n",
      "id: 394528419\n",
      "number of nodes : 19\n",
      "Tags : \n",
      "\tbuilding : yes\n",
      "\tsource : GSI/KIBAN 2500;NARO\n",
      "\n",
      "\n",
      "[Building]\n",
      "id: 394528420\n",
      "number of nodes : 13\n",
      "Tags : \n",
      "\tbuilding : yes\n",
      "\tsource : GSI/KIBAN 2500;NARO\n",
      "\n",
      "\n",
      "[Building]\n",
      "id: 394528421\n",
      "number of nodes : 13\n",
      "Tags : \n",
      "\tbuilding : yes\n",
      "\tsource : GSI/KIBAN 2500;NARO\n",
      "\n",
      "\n",
      "[Building]\n",
      "id: 394528423\n",
      "number of nodes : 5\n",
      "Tags : \n",
      "\tbuilding : yes\n",
      "\tsource : GSI/KIBAN 2500;NARO\n",
      "\n",
      "\n",
      "[Building]\n",
      "id: 548315449\n",
      "number of nodes : 5\n",
      "Tags : \n",
      "\tbuilding : yes\n",
      "\n",
      "\n",
      "[Building]\n",
      "id: 548315452\n",
      "number of nodes : 5\n",
      "Tags : \n",
      "\tbuilding : yes\n",
      "\n",
      "\n",
      "[Building]\n",
      "id: 548315458\n",
      "number of nodes : 5\n",
      "Tags : \n",
      "\tbuilding : yes\n",
      "\n",
      "\n",
      "[Building]\n",
      "id: 548315461\n",
      "number of nodes : 11\n",
      "Tags : \n",
      "\tbuilding : yes\n",
      "\n",
      "\n",
      "[Building]\n",
      "id: 548315468\n",
      "number of nodes : 5\n",
      "Tags : \n",
      "\tbuilding : yes\n",
      "\n",
      "\n",
      "[Building]\n",
      "id: 548315471\n",
      "number of nodes : 5\n",
      "Tags : \n",
      "\tbuilding : yes\n",
      "\n",
      "\n",
      "[Building]\n",
      "id: 548315483\n",
      "number of nodes : 5\n",
      "Tags : \n",
      "\tbuilding : yes\n",
      "\n",
      "\n",
      "[Building]\n",
      "id: 548315486\n",
      "number of nodes : 5\n",
      "Tags : \n",
      "\tbuilding : yes\n",
      "\n",
      "\n",
      "[Building]\n",
      "id: 548315490\n",
      "number of nodes : 5\n",
      "Tags : \n",
      "\tbuilding : yes\n",
      "\n",
      "\n",
      "[Building]\n",
      "id: 556910170\n",
      "number of nodes : 7\n",
      "Tags : \n",
      "\tbuilding : yes\n",
      "\n",
      "\n",
      "[Building]\n",
      "id: 558698148\n",
      "number of nodes : 11\n",
      "Tags : \n",
      "\tbuilding : apartments\n",
      "\n",
      "\n",
      "[Building]\n",
      "id: 558698149\n",
      "number of nodes : 9\n",
      "Tags : \n",
      "\tbuilding : apartments\n",
      "\n",
      "\n",
      "[Building]\n",
      "id: 638906228\n",
      "number of nodes : 5\n",
      "Tags : \n",
      "\tbuilding : yes\n",
      "\n",
      "\n"
     ]
    }
   ],
   "source": [
    "for x in grid.buildings:\n",
    "    print(x)"
   ]
  },
  {
   "cell_type": "code",
   "execution_count": 18,
   "metadata": {},
   "outputs": [
    {
     "name": "stdout",
     "output_type": "stream",
     "text": [
      "Grid\n",
      "\tstarting = (lat = 36.0777, lon = 140.0949)\n",
      "\tend = (lat = 36.0821, lon = 140.0977)\n",
      "\tnodes = 147\n",
      "\tbuildings = 6\n",
      "\troads = 213\n",
      "\n"
     ]
    }
   ],
   "source": [
    "grid = osmMap.grids[1][0]\n",
    "print(grid)"
   ]
  },
  {
   "cell_type": "code",
   "execution_count": 19,
   "metadata": {},
   "outputs": [
    {
     "name": "stdout",
     "output_type": "stream",
     "text": [
      "[Building]\n",
      "id: 253975369\n",
      "number of nodes : 12\n",
      "Tags : \n",
      "\tbuilding : yes\n",
      "\tsource : Bing\n",
      "\n",
      "\n",
      "[Building]\n",
      "id: 253975376\n",
      "number of nodes : 5\n",
      "Tags : \n",
      "\tbuilding : yes\n",
      "\tsource : Bing\n",
      "\n",
      "\n",
      "[Building]\n",
      "id: 253975385\n",
      "number of nodes : 5\n",
      "Tags : \n",
      "\tbuilding : yes\n",
      "\tsource : Bing\n",
      "\n",
      "\n",
      "[Building]\n",
      "id: 253975401\n",
      "number of nodes : 5\n",
      "Tags : \n",
      "\tbuilding : yes\n",
      "\tsource : Bing\n",
      "\n",
      "\n",
      "[Building]\n",
      "id: 253975446\n",
      "number of nodes : 5\n",
      "Tags : \n",
      "\tbuilding : yes\n",
      "\tsource : Bing\n",
      "\n",
      "\n",
      "[Building]\n",
      "id: 253975460\n",
      "number of nodes : 7\n",
      "Tags : \n",
      "\tbuilding : yes\n",
      "\tsource : Bing\n",
      "\n",
      "\n"
     ]
    }
   ],
   "source": [
    "for x in grid.buildings:\n",
    "    print(x)"
   ]
  },
  {
   "cell_type": "markdown",
   "metadata": {},
   "source": [
    "# 4. Render the map"
   ]
  },
  {
   "cell_type": "code",
   "execution_count": 20,
   "metadata": {},
   "outputs": [],
   "source": [
    "import lib.Renderer.Renderer as renderer\n",
    "renderer.render(osmMap)"
   ]
  },
  {
   "cell_type": "code",
   "execution_count": null,
   "metadata": {},
   "outputs": [],
   "source": []
  }
 ],
 "metadata": {
  "kernelspec": {
   "display_name": "Python 3",
   "language": "python",
   "name": "python3"
  },
  "language_info": {
   "codemirror_mode": {
    "name": "ipython",
    "version": 3
   },
   "file_extension": ".py",
   "mimetype": "text/x-python",
   "name": "python",
   "nbconvert_exporter": "python",
   "pygments_lexer": "ipython3",
   "version": "3.6.9"
  }
 },
 "nbformat": 4,
 "nbformat_minor": 2
}
