{
 "cells": [
  {
   "cell_type": "markdown",
   "metadata": {},
   "source": [
    "# Load Library\n",
    "load global library"
   ]
  },
  {
   "cell_type": "code",
   "execution_count": 1,
   "metadata": {
    "scrolled": true
   },
   "outputs": [],
   "source": [
    "import sys\n",
    "import os"
   ]
  },
  {
   "cell_type": "markdown",
   "metadata": {},
   "source": [
    "import random\n",
    "infectionPercentage = (-23.28 * 0) + 10.0\n",
    "print(infectionPercentage)\n",
    "test = random.randint(0,int(100*100))\n",
    "print(f\"{test} vs {int(infectionPercentage*100)}\")"
   ]
  },
  {
   "cell_type": "markdown",
   "metadata": {},
   "source": [
    "import matplotlib.pyplot"
   ]
  },
  {
   "cell_type": "markdown",
   "metadata": {},
   "source": [
    "load local library"
   ]
  },
  {
   "cell_type": "code",
   "execution_count": 2,
   "metadata": {
    "scrolled": true
   },
   "outputs": [],
   "source": [
    "sys.path.append(os.path.join(os.getcwd() , \"..\"))\n",
    "import lib.Map.Map as map\n",
    "import lib.Renderer.Renderer as renderer\n",
    "from lib.Renderer.GraphViewer import showData\n",
    "from lib.Renderer.LocationStatistic import showPieChart\n",
    "import threading\n",
    "import lib.Simulation.Simulator as Simulator"
   ]
  },
  {
   "cell_type": "code",
   "execution_count": 3,
   "metadata": {
    "scrolled": true
   },
   "outputs": [
    {
     "name": "stdout",
     "output_type": "stream",
     "text": [
      "\n",
      "    [Class] Map\n",
      "    A class to represent the map\n",
      "    \n",
      "    Properties:\n",
      "        - origin        : [Coordinate] map's origin coordinate\n",
      "        - end           : [Coordinate] map's end coordinate\n",
      "        - num_nodes     : Number of Nodes.\n",
      "        - nodesDict     : Dictionary of all nodes. The key used are the Open Street Map ID.\n",
      "        - nodes         : List of all nodes.\n",
      "        \n",
      "        - num_ways      : Number of Ways.\n",
      "        - waysDict      : Dictionary of all nodes. The key used are the Open Street Map ID.\n",
      "        - ways          : List of all ways.\n",
      "        \n",
      "        - num_roads     : Number of Roads.\n",
      "        - roadNodesDict : \n",
      "        - roadNodes     : \n",
      "        - roadsDict     : List of all nodes that marked as road.\n",
      "        - roads         : List of all roads.\n",
      "        \n",
      "        - num_buildings : Number of Buildings.\n",
      "        - buildings     : List of all buildings.\n",
      "        - naturals      : List of all naturals.\n",
      "        - leisures      : List of all leisures.\n",
      "        - amenities     : List of all amenities.\n",
      "        \n",
      "        - grids         : [(int,int)] Two dimensional array of grids\n",
      "        \n",
      "        - others        : List of other openstreetmap ways that yet to be categorized.\n",
      "        - distanceLat   : height of 1 grid in latitude\n",
      "        - distanceLon   : width of 1 grid in longitude\n",
      "        - gridsize      : tuple of 2 integer that shows how many grids we have\n",
      "    \n"
     ]
    }
   ],
   "source": [
    "print(map.Map.__doc__)"
   ]
  },
  {
   "cell_type": "code",
   "execution_count": 4,
   "metadata": {
    "scrolled": false
   },
   "outputs": [
    {
     "name": "stdout",
     "output_type": "stream",
     "text": [
      "\n",
      "    [Function] readFile\n",
      "    Function to generate map fom osm File\n",
      "    \n",
      "    parameter:\n",
      "        - filepath : [string] path to the OSM file\n",
      "        - grid     : [(int,int)] grid size, default value = (10,10)\n",
      "    \n"
     ]
    }
   ],
   "source": [
    "\n",
    "print(map.readFile.__doc__)"
   ]
  },
  {
   "cell_type": "code",
   "execution_count": 5,
   "metadata": {
    "scrolled": true
   },
   "outputs": [],
   "source": [
    "dataDirectory = os.path.join(\"..\",\"osmData\")\n",
    "filename = \"TX-To-TU.osm\"\n",
    "filepath = os.path.join(dataDirectory,filename)\n",
    "\n",
    "buildingConfigPath = os.path.join(\"..\",\"config\",\"tsukuba-tu-building-data.csv\")"
   ]
  },
  {
   "cell_type": "code",
   "execution_count": 6,
   "metadata": {
    "scrolled": false
   },
   "outputs": [
    {
     "name": "stdout",
     "output_type": "stream",
     "text": [
      "0.002800000000002001,0.004399999999999693\n",
      "error, Heron's formula is not working due to very small angle\n",
      "['9', '0', '0', 'All', 'laboratory']\n",
      "['9', '0', '1', 'All', 'residential']\n",
      "['9', '0', '2', '1', 'barbershop']\n",
      "['9', '0', '2', '1', 'retail']\n",
      "['9', '0', '2', 'All', 'residential']\n",
      "['8', '1', '0', '5', 'office']\n",
      "['8', '1', '0', 'All', 'residential']\n",
      "['8', '1', '1', '2', 'laboratory']\n",
      "['8', '1', '1', 'All', 'laboratory']\n",
      "['8', '1', '2', 'All', 'residential']\n",
      "['8', '1', '3', 'All', 'laboratory']\n",
      "['8', '1', '4', 'All', 'university']\n",
      "['8', '1', '7', '3', 'retail']\n",
      "['8', '1', '7', 'All', 'office']\n",
      "['8', '1', '8', '1', 'clinic']\n",
      "['8', '1', '8', '1', 'residential']\n",
      "['8', '1', '8', '1', 'skill school']\n",
      "['8', '1', '8', 'All', 'retail']\n",
      "['7', '2', '1', 'All', 'laboratory']\n",
      "['7', '2', '2', 'All', 'university']\n",
      "['7', '2', '3', '1', 'retail']\n",
      "['6', '3', '3', '3', 'residential']\n",
      "['7', '2', '3', 'All', 'university']\n",
      "['7', '2', '4', 'All', 'laboratory']\n",
      "['7', '2', '5', '4', 'house']\n",
      "['7', '2', '5', '4', 'residential']\n",
      "['7', '2', '5', '4', 'residential']\n",
      "['7', '2', '5', '4', 'residential']\n",
      "['7', '2', '5', 'All', 'apartments']\n",
      "['7', '2', '6', '1', 'house']\n",
      "['7', '2', '6', '1', 'office']\n",
      "['7', '2', '6', '1', 'university']\n",
      "['7', '2', '6', '3', 'retail']\n",
      "['7', '2', '6', '4', 'residential']\n",
      "['7', '2', '6', 'All', 'apartments']\n",
      "['7', '2', '7', '1', 'office']\n",
      "['7', '2', '7', '2', 'retail']\n",
      "['7', '2', '7', 'All', 'apartments']\n",
      "['7', '2', '7', 'All', 'apartments']\n",
      "['7', '2', '8', '1', 'office']\n",
      "['7', '2', '8', 'All', 'retail']\n",
      "['6', '3', '0', '2', 'apartments']\n",
      "['6', '3', '0', 'All', 'house']\n",
      "['6', '3', '1', '1', 'pachinko']\n",
      "['6', '3', '1', 'All', 'house']\n",
      "['6', '3', '2', '13', 'laboratory']\n",
      "['6', '3', '3', '1', 'barbershop']\n",
      "['6', '3', '3', 'All', 'University']\n",
      "['6', '3', '4', '1', 'church']\n",
      "['6', '3', '4', '1', 'office']\n",
      "['6', '3', '4', '1', 'residential']\n",
      "['6', '3', '4', '1', 'retail']\n",
      "['6', '3', '4', 'All', 'apartments']\n",
      "['6', '3', '5', '1', 'retail']\n",
      "['6', '3', '5', '3', 'residential']\n",
      "['6', '3', '5', 'All', 'apartments']\n",
      "['6', '3', '6', '4', 'retail']\n",
      "['6', '3', '6', '15', 'residential']\n",
      "['6', '3', '6', 'All', 'apartments']\n",
      "['6', '3', '7', '1', 'clinic']\n",
      "['6', '3', '7', '1', 'office']\n",
      "['6', '3', '7', '3', 'barbershop']\n",
      "['6', '3', '7', '4', 'retail']\n",
      "['6', '3', '7', 'All', 'apartments']\n",
      "['6', '3', '8', '2', 'residential']\n",
      "['6', '3', '8', 'All', 'apartments']\n",
      "['5', '4', '0', '1', 'house']\n",
      "['5', '4', '0', 'All', 'apartments']\n",
      "['5', '4', '1', 'All', 'house']\n",
      "['5', '4', '2', '2', 'barbershop']\n",
      "['5', '4', '2', '4', 'house']\n",
      "['5', '4', '2', '4', 'residential']\n",
      "['5', '4', '2', 'All', 'apartments']\n",
      "['5', '4', '3', '2', 'residential']\n",
      "['5', '4', '3', '4', 'hall']\n",
      "['5', '4', '3', '8', 'apartments']\n",
      "['5', '4', '3', 'All', 'university']\n",
      "['5', '4', '4', 'All', 'university']\n",
      "['5', '4', '5', 'All', 'university']\n",
      "['5', '4', '6', 'All', 'museum']\n",
      "['5', '4', '7', 'All', 'museum']\n",
      "['4', '5', '0', '1', 'nursery']\n",
      "['4', '5', '0', 'All', 'miscellaneous']\n",
      "['4', '5', '1', '1', 'clinic']\n",
      "['4', '5', '1', '1', 'karaoke_box']\n",
      "['4', '5', '1', '1', 'skill school']\n",
      "['4', '5', '1', '2', 'residential']\n",
      "['4', '5', '1', '2', 'retail']\n",
      "['4', '5', '1', 'All', 'apartments']\n",
      "['4', '5', '2', '1', 'barbershop']\n",
      "['4', '5', '2', '1', 'university']\n",
      "['4', '5', '2', '2', 'retail']\n",
      "['4', '5', '2', '3', 'restaurant']\n",
      "['4', '5', '2', 'All', 'apartments']\n",
      "['4', '5', '3', '1', 'retail']\n",
      "['4', '5', '3', '3', 'restaurant']\n",
      "['4', '5', '3', '3', 'university']\n",
      "['4', '5', '3', '4', 'residential']\n",
      "['4', '5', '3', 'All', 'apartments']\n",
      "['4', '5', '4', '1', 'office']\n",
      "['4', '5', '4', '1', 'retail']\n",
      "['4', '5', '4', '2', 'restaurant']\n",
      "['4', '5', '4', 'All', 'residential']\n",
      "['4', '5', '5', '4', 'restaurant']\n",
      "['4', '5', '5', 'All', 'apartments']\n",
      "['4', '5', '6', 'All', 'museum']\n",
      "['4', '5', '8', 'All', 'hall']\n",
      "['3', '6', '0', '1', 'office']\n",
      "['3', '6', '0', '2', 'apartments']\n",
      "['3', '6', '0', 'All', 'house']\n",
      "['3', '6', '1', '1', 'laboratory']\n",
      "['3', '6', '1', '1', 'restaurant']\n",
      "['3', '6', '1', 'All', 'house']\n",
      "['3', '6', '2', '3', 'laboratory']\n",
      "['3', '6', '2', 'All', 'apartments']\n",
      "['3', '6', '3', '1', 'hospital']\n",
      "['3', '6', '3', 'All', 'laboratory']\n",
      "['3', '6', '4', '1', 'hospital']\n",
      "['3', '6', '4', '2', 'laboratory']\n",
      "['3', '6', '4', 'All', 'residential']\n",
      "['3', '6', '5', '1', 'barbershop']\n",
      "['3', '6', '5', '1', 'school']\n",
      "['3', '6', '5', '4', 'retail']\n",
      "['3', '6', '5', '6', 'restaurant']\n",
      "['3', '6', '5', 'All', 'apartments']\n",
      "['3', '6', '6', '1', 'karaoke_box']\n",
      "['3', '6', '6', '1', 'retail']\n",
      "['3', '6', '6', 'All', 'apartments']\n",
      "['3', '6', '7', 'All', 'apartments']\n",
      "['2', '7', '1', 'All', 'apartments']\n",
      "['2', '7', '2', '1', 'laboratory']\n",
      "['2', '7', '2', '2', 'restaurant']\n",
      "['2', '7', '2', '2', 'retail']\n",
      "['2', '7', '2', 'All', 'apartments']\n",
      "['2', '7', '3', '3', 'office']\n",
      "['2', '7', '3', 'All', 'apartments']\n",
      "['2', '7', '4', '1', 'hospital']\n",
      "['2', '7', '4', '1', 'university']\n",
      "['2', '7', '4', 'All', 'apartments']\n",
      "['2', '7', '5', '2', 'hall']\n",
      "['2', '7', '5', '3', 'university']\n",
      "['2', '7', '5', 'All', 'laboratory']\n",
      "['2', '7', '6', '1', 'restaurant']\n",
      "['2', '7', '6', '1', 'retail']\n",
      "['2', '7', '6', 'All', 'apartments']\n",
      "['2', '7', '7', '1', 'clinic']\n",
      "['2', '7', '7', '2', 'hospital']\n",
      "['2', '7', '7', '3', 'restaurant']\n",
      "['2', '7', '7', '3', 'retail']\n",
      "['2', '7', '7', 'All', 'apartments']\n",
      "['2', '7', '8', '1', 'laboratory']\n",
      "['2', '7', '8', '1', 'skill school']\n",
      "['2', '7', '8', 'All', 'apartments']\n",
      "['1', '8', '0', '3', 'retail']\n",
      "['1', '8', '0', 'All', 'house']\n",
      "['1', '8', '1', '1', 'apartments']\n",
      "['1', '8', '1', '1', 'clinic']\n",
      "['1', '8', '1', '1', 'restaurant']\n",
      "['1', '8', '1', '1', 'retail']\n",
      "['1', '8', '1', '1', 'skill school']\n",
      "['1', '8', '1', 'All', 'house']\n",
      "['1', '8', '2', '1', 'restaurant']\n",
      "['1', '8', '2', '1', 'retail']\n",
      "['1', '8', '2', '2', 'office']\n",
      "['1', '8', '2', 'All', 'apartments']\n",
      "['1', '8', '3', '1', 'office']\n",
      "['1', '8', '3', '1', 'restaurant']\n",
      "['1', '8', '3', '1', 'retail']\n",
      "['1', '8', '3', '1', 'skill school']\n",
      "['1', '8', '3', '2', 'barbershop']\n",
      "['1', '8', '3', 'All', 'apartments']\n",
      "['1', '8', '4', '1', 'restaurant']\n",
      "['1', '8', '4', 'All', 'office']\n",
      "['1', '8', '5', '1', 'restaurant']\n",
      "['1', '8', '5', '1', 'university']\n",
      "['1', '8', '5', 'All', 'residential']\n",
      "['1', '8', '6', '4', 'museum']\n",
      "['1', '8', '6', 'All', 'school']\n",
      "['1', '8', '7', '1', 'hotel']\n",
      "['1', '8', '7', '1', 'bus_terminal']\n",
      "['1', '8', '7', 'All', 'apartments']\n",
      "['1', '8', '8', '1', 'school']\n",
      "['1', '8', '8', '3', 'office']\n",
      "['1', '8', '8', 'All', 'apartments']\n",
      "['1', '8', '9', 'All', 'apartments']\n",
      "['0', '9', '1', '1', 'nursery']\n",
      "['0', '9', '1', 'All', 'school']\n",
      "['0', '9', '5', '1', 'hall']\n",
      "['0', '9', '5', '1', 'restaurant']\n",
      "['0', '9', '5', '2', 'hotel']\n",
      "['0', '9', '5', 'All', 'apartments']\n",
      "['0', '9', '6', '1', 'hotel']\n",
      "['0', '9', '6', '1', 'mall']\n",
      "['0', '9', '6', 'All', 'office']\n",
      "['0', '9', '7', '1', 'apartments']\n",
      "['0', '9', '7', '2', 'office']\n",
      "['0', '9', '7', 'All', 'mall']\n",
      "['0', '9', '8', '1', 'hall']\n",
      "['0', '9', '8', '2', 'mall']\n",
      "['0', '9', '8', '3', 'apartments']\n",
      "['0', '9', '8', 'All', 'office']\n",
      "['0', '9', '9', '1', 'mall']\n",
      "['0', '9', '9', '1', 'office']\n",
      "['0', '9', '9', 'All', 'apartments']\n"
     ]
    }
   ],
   "source": [
    "osmMap = map.readFile(filepath,buildingCSV = buildingConfigPath)"
   ]
  },
  {
   "cell_type": "code",
   "execution_count": 7,
   "metadata": {
    "scrolled": false
   },
   "outputs": [
    {
     "name": "stdout",
     "output_type": "stream",
     "text": [
      "Epidemicon Map\n",
      " number of nodes = 22469\n",
      " number of ways = 3681\n",
      " number of roads = 8134\n",
      " number of roads node = 10760\n",
      " number of buildings = 1752\n",
      "\n"
     ]
    }
   ],
   "source": [
    "print(osmMap)"
   ]
  },
  {
   "cell_type": "code",
   "execution_count": 8,
   "metadata": {
    "scrolled": false
   },
   "outputs": [
    {
     "name": "stdout",
     "output_type": "stream",
     "text": [
      "['student', '9', '9', 'school', '4', '18', '5', '8', '9', 'weekday', '5', '5', 'no']\n",
      "['university_student', '4', '9', 'university', '18', '60', '5', '8', '14', 'weekday', '1', '5', 'no']\n",
      "['medical_doctor', '8', '24', 'hospital', '25', '70', '1', '0', '23', 'everyday', '5', '7', 'no']\n",
      "['teacher', '9', '9', 'school', '23', '70', '1', '8', '9', 'weekday', '5', '5', 'no']\n",
      "['university_professor ', '5', '9', 'university', '28', '70', '1', '8', '9', 'weekday', '3', '5', 'no']\n",
      "['salaryman_tsuchiura', '9', '9', 'train_station', '19', '70', '3', '8', '9', 'weekday', '5', '5', 'yes']\n",
      "['salaryman_tokyo', '9', '9', 'train_station', '19', '70', '3', '8', '9', 'weekday', '5', '5', 'yes']\n",
      "['convenience_store_employee', '8', '8', 'retail', '19', '70', '1', '0', '23', 'everyday', '3', '5', 'no']\n",
      "['salaryman', '4', '5', 'office', '19', '70', '5', '8', '10', 'weekday', '5', '5', 'no']\n",
      "['barber', '7', '8', 'barbershop', '20', '70', '1', '8', '12', 'everyday', '5', '6', 'no']\n",
      "['clinic_doctor', '8', '24', 'clinic', '25', '70', '1', '0', '23', 'everyday', '5', '7', 'no']\n",
      "['restaurant_worker', '8', '10', 'restaurant', '16', '70', '1', '0', '18', 'everyday', '5', '7', 'no']\n",
      "['scientist', '5', '9', 'laboratory', '21', '70', '2', '8', '9', 'weekday', '3', '5', 'no']\n",
      "Processed 0 lines.\n",
      "warning, activities per week is lower than the optional workdays\n",
      "warning, activities per week is lower than the optional workdays\n",
      "warning, activities per week is lower than the optional workdays\n",
      "warning, activities per week is lower than the optional workdays\n",
      "warning, activities per week is lower than the optional workdays\n",
      "warning, activities per week is lower than the optional workdays\n",
      "warning, activities per week is lower than the optional workdays\n",
      "warning, activities per week is lower than the optional workdays\n",
      "warning, activities per week is lower than the optional workdays\n",
      "warning, activities per week is lower than the optional workdays\n",
      "warning, activities per week is lower than the optional workdays\n",
      "warning, activities per week is lower than the optional workdays\n",
      "warning, activities per week is lower than the optional workdays\n",
      "warning, activities per week is lower than the optional workdays\n",
      "warning, activities per week is lower than the optional workdays\n",
      "warning, activities per week is lower than the optional workdays\n",
      "warning, activities per week is lower than the optional workdays\n",
      "warning, activities per week is lower than the optional workdays\n",
      "warning, activities per week is lower than the optional workdays\n",
      "warning, activities per week is lower than the optional workdays\n",
      "warning, activities per week is lower than the optional workdays\n",
      "warning, activities per week is lower than the optional workdays\n",
      "warning, activities per week is lower than the optional workdays\n",
      "warning, activities per week is lower than the optional workdays\n",
      "warning, activities per week is lower than the optional workdays\n",
      "warning, activities per week is lower than the optional workdays\n",
      "warning, activities per week is lower than the optional workdays\n",
      "warning, activities per week is lower than the optional workdays\n",
      "warning, activities per week is lower than the optional workdays\n",
      "warning, activities per week is lower than the optional workdays\n",
      "warning, activities per week is lower than the optional workdays\n",
      "warning, activities per week is lower than the optional workdays\n",
      "warning, activities per week is lower than the optional workdays\n",
      "warning, activities per week is lower than the optional workdays\n",
      "warning, activities per week is lower than the optional workdays\n",
      "warning, activities per week is lower than the optional workdays\n",
      "warning, activities per week is lower than the optional workdays\n",
      "warning, activities per week is lower than the optional workdays\n",
      "warning, activities per week is lower than the optional workdays\n",
      "warning, activities per week is lower than the optional workdays\n",
      "warning, activities per week is lower than the optional workdays\n",
      "warning, activities per week is lower than the optional workdays\n",
      "warning, activities per week is lower than the optional workdays\n",
      "warning, activities per week is lower than the optional workdays\n",
      "warning, activities per week is lower than the optional workdays\n",
      "warning, activities per week is lower than the optional workdays\n",
      "warning, activities per week is lower than the optional workdays\n",
      "warning, activities per week is lower than the optional workdays\n",
      "warning, activities per week is lower than the optional workdays\n",
      "warning, activities per week is lower than the optional workdays\n",
      "warning, activities per week is lower than the optional workdays\n",
      "warning, activities per week is lower than the optional workdays\n",
      "warning, activities per week is lower than the optional workdays\n",
      "warning, activities per week is lower than the optional workdays\n",
      "warning, activities per week is lower than the optional workdays\n",
      "warning, activities per week is lower than the optional workdays\n",
      "warning, activities per week is lower than the optional workdays\n",
      "warning, activities per week is lower than the optional workdays\n",
      "warning, activities per week is lower than the optional workdays\n",
      "warning, activities per week is lower than the optional workdays\n",
      "warning, activities per week is lower than the optional workdays\n",
      "warning, activities per week is lower than the optional workdays\n",
      "warning, activities per week is lower than the optional workdays\n",
      "warning, activities per week is lower than the optional workdays\n",
      "warning, activities per week is lower than the optional workdays\n",
      "warning, activities per week is lower than the optional workdays\n",
      "warning, activities per week is lower than the optional workdays\n",
      "warning, activities per week is lower than the optional workdays\n",
      "warning, activities per week is lower than the optional workdays\n",
      "warning, activities per week is lower than the optional workdays\n",
      "warning, activities per week is lower than the optional workdays\n",
      "warning, activities per week is lower than the optional workdays\n",
      "warning, activities per week is lower than the optional workdays\n",
      "warning, activities per week is lower than the optional workdays\n",
      "warning, activities per week is lower than the optional workdays\n",
      "warning, activities per week is lower than the optional workdays\n",
      "warning, activities per week is lower than the optional workdays\n",
      "warning, activities per week is lower than the optional workdays\n",
      "warning, activities per week is lower than the optional workdays\n",
      "warning, activities per week is lower than the optional workdays\n",
      "warning, activities per week is lower than the optional workdays\n",
      "warning, activities per week is lower than the optional workdays\n",
      "warning, activities per week is lower than the optional workdays\n",
      "warning, activities per week is lower than the optional workdays\n",
      "warning, activities per week is lower than the optional workdays\n",
      "warning, activities per week is lower than the optional workdays\n",
      "warning, activities per week is lower than the optional workdays\n",
      "warning, activities per week is lower than the optional workdays\n",
      "warning, activities per week is lower than the optional workdays\n",
      "warning, activities per week is lower than the optional workdays\n",
      "warning, activities per week is lower than the optional workdays\n",
      "warning, activities per week is lower than the optional workdays\n",
      "warning, activities per week is lower than the optional workdays\n",
      "warning, activities per week is lower than the optional workdays\n",
      "warning, activities per week is lower than the optional workdays\n",
      "warning, activities per week is lower than the optional workdays\n",
      "warning, activities per week is lower than the optional workdays\n",
      "warning, activities per week is lower than the optional workdays\n",
      "warning, activities per week is lower than the optional workdays\n",
      "warning, activities per week is lower than the optional workdays\n",
      "warning, activities per week is lower than the optional workdays\n",
      "warning, activities per week is lower than the optional workdays\n",
      "warning, activities per week is lower than the optional workdays\n",
      "warning, activities per week is lower than the optional workdays\n",
      "warning, activities per week is lower than the optional workdays\n",
      "warning, activities per week is lower than the optional workdays\n",
      "warning, activities per week is lower than the optional workdays\n",
      "warning, activities per week is lower than the optional workdays\n",
      "warning, activities per week is lower than the optional workdays\n",
      "warning, activities per week is lower than the optional workdays\n",
      "warning, activities per week is lower than the optional workdays\n",
      "warning, activities per week is lower than the optional workdays\n",
      "warning, activities per week is lower than the optional workdays\n",
      "warning, activities per week is lower than the optional workdays\n",
      "warning, activities per week is lower than the optional workdays\n",
      "warning, activities per week is lower than the optional workdays\n",
      "warning, activities per week is lower than the optional workdays\n",
      "warning, activities per week is lower than the optional workdays\n",
      "warning, activities per week is lower than the optional workdays\n",
      "warning, activities per week is lower than the optional workdays\n",
      "warning, activities per week is lower than the optional workdays\n",
      "warning, activities per week is lower than the optional workdays\n",
      "warning, activities per week is lower than the optional workdays\n",
      "warning, activities per week is lower than the optional workdays\n",
      "warning, activities per week is lower than the optional workdays\n",
      "warning, activities per week is lower than the optional workdays\n",
      "warning, activities per week is lower than the optional workdays\n",
      "warning, activities per week is lower than the optional workdays\n",
      "warning, activities per week is lower than the optional workdays\n",
      "warning, activities per week is lower than the optional workdays\n",
      "warning, activities per week is lower than the optional workdays\n",
      "warning, activities per week is lower than the optional workdays\n",
      "warning, activities per week is lower than the optional workdays\n",
      "warning, activities per week is lower than the optional workdays\n",
      "warning, activities per week is lower than the optional workdays\n",
      "warning, activities per week is lower than the optional workdays\n",
      "warning, activities per week is lower than the optional workdays\n",
      "warning, activities per week is lower than the optional workdays\n",
      "warning, activities per week is lower than the optional workdays\n",
      "warning, activities per week is lower than the optional workdays\n",
      "warning, activities per week is lower than the optional workdays\n",
      "warning, activities per week is lower than the optional workdays\n",
      "warning, activities per week is lower than the optional workdays\n",
      "warning, activities per week is lower than the optional workdays\n",
      "warning, activities per week is lower than the optional workdays\n",
      "warning, activities per week is lower than the optional workdays\n",
      "warning, activities per week is lower than the optional workdays\n",
      "warning, activities per week is lower than the optional workdays\n",
      "warning, activities per week is lower than the optional workdays\n",
      "warning, activities per week is lower than the optional workdays\n",
      "warning, activities per week is lower than the optional workdays\n",
      "warning, activities per week is lower than the optional workdays\n",
      "warning, activities per week is lower than the optional workdays\n",
      "warning, activities per week is lower than the optional workdays\n",
      "warning, activities per week is lower than the optional workdays\n",
      "warning, activities per week is lower than the optional workdays\n",
      "warning, activities per week is lower than the optional workdays\n",
      "warning, activities per week is lower than the optional workdays\n",
      "warning, activities per week is lower than the optional workdays\n",
      "warning, activities per week is lower than the optional workdays\n",
      "warning, activities per week is lower than the optional workdays\n",
      "warning, activities per week is lower than the optional workdays\n",
      "warning, activities per week is lower than the optional workdays\n",
      "warning, activities per week is lower than the optional workdays\n",
      "warning, activities per week is lower than the optional workdays\n",
      "warning, activities per week is lower than the optional workdays\n",
      "warning, activities per week is lower than the optional workdays\n",
      "warning, activities per week is lower than the optional workdays\n",
      "warning, activities per week is lower than the optional workdays\n",
      "warning, activities per week is lower than the optional workdays\n",
      "warning, activities per week is lower than the optional workdays\n",
      "warning, activities per week is lower than the optional workdays\n",
      "warning, activities per week is lower than the optional workdays\n",
      "warning, activities per week is lower than the optional workdays\n",
      "warning, activities per week is lower than the optional workdays\n",
      "warning, activities per week is lower than the optional workdays\n",
      "warning, activities per week is lower than the optional workdays\n",
      "warning, activities per week is lower than the optional workdays\n",
      "warning, activities per week is lower than the optional workdays\n",
      "warning, activities per week is lower than the optional workdays\n",
      "warning, activities per week is lower than the optional workdays\n",
      "warning, activities per week is lower than the optional workdays\n",
      "warning, activities per week is lower than the optional workdays\n",
      "warning, activities per week is lower than the optional workdays\n",
      "warning, activities per week is lower than the optional workdays\n",
      "warning, activities per week is lower than the optional workdays\n",
      "warning, activities per week is lower than the optional workdays\n",
      "warning, activities per week is lower than the optional workdays\n",
      "warning, activities per week is lower than the optional workdays\n",
      "warning, activities per week is lower than the optional workdays\n",
      "warning, activities per week is lower than the optional workdays\n",
      "warning, activities per week is lower than the optional workdays\n",
      "warning, activities per week is lower than the optional workdays\n",
      "warning, activities per week is lower than the optional workdays\n",
      "warning, activities per week is lower than the optional workdays\n",
      "warning, activities per week is lower than the optional workdays\n",
      "warning, activities per week is lower than the optional workdays\n",
      "warning, activities per week is lower than the optional workdays\n",
      "warning, activities per week is lower than the optional workdays\n",
      "warning, activities per week is lower than the optional workdays\n",
      "warning, activities per week is lower than the optional workdays\n",
      "warning, activities per week is lower than the optional workdays\n",
      "warning, activities per week is lower than the optional workdays\n",
      "warning, activities per week is lower than the optional workdays\n",
      "warning, activities per week is lower than the optional workdays\n",
      "warning, activities per week is lower than the optional workdays\n",
      "warning, activities per week is lower than the optional workdays\n",
      "warning, activities per week is lower than the optional workdays\n",
      "warning, activities per week is lower than the optional workdays\n",
      "warning, activities per week is lower than the optional workdays\n",
      "warning, activities per week is lower than the optional workdays\n",
      "warning, activities per week is lower than the optional workdays\n",
      "warning, activities per week is lower than the optional workdays\n",
      "warning, activities per week is lower than the optional workdays\n",
      "warning, activities per week is lower than the optional workdays\n",
      "warning, activities per week is lower than the optional workdays\n",
      "warning, activities per week is lower than the optional workdays\n",
      "warning, activities per week is lower than the optional workdays\n",
      "warning, activities per week is lower than the optional workdays\n",
      "warning, activities per week is lower than the optional workdays\n",
      "warning, activities per week is lower than the optional workdays\n",
      "warning, activities per week is lower than the optional workdays\n",
      "warning, activities per week is lower than the optional workdays\n",
      "warning, activities per week is lower than the optional workdays\n",
      "warning, activities per week is lower than the optional workdays\n",
      "warning, activities per week is lower than the optional workdays\n",
      "warning, activities per week is lower than the optional workdays\n",
      "warning, activities per week is lower than the optional workdays\n",
      "warning, activities per week is lower than the optional workdays\n",
      "warning, activities per week is lower than the optional workdays\n",
      "warning, activities per week is lower than the optional workdays\n",
      "warning, activities per week is lower than the optional workdays\n",
      "warning, activities per week is lower than the optional workdays\n",
      "warning, activities per week is lower than the optional workdays\n",
      "warning, activities per week is lower than the optional workdays\n",
      "warning, activities per week is lower than the optional workdays\n",
      "warning, activities per week is lower than the optional workdays\n",
      "warning, activities per week is lower than the optional workdays\n",
      "warning, activities per week is lower than the optional workdays\n",
      "warning, activities per week is lower than the optional workdays\n",
      "warning, activities per week is lower than the optional workdays\n",
      "warning, activities per week is lower than the optional workdays\n",
      "warning, activities per week is lower than the optional workdays\n",
      "warning, activities per week is lower than the optional workdays\n",
      "warning, activities per week is lower than the optional workdays\n",
      "warning, activities per week is lower than the optional workdays\n",
      "warning, activities per week is lower than the optional workdays\n",
      "warning, activities per week is lower than the optional workdays\n",
      "warning, activities per week is lower than the optional workdays\n",
      "warning, activities per week is lower than the optional workdays\n",
      "warning, activities per week is lower than the optional workdays\n",
      "warning, activities per week is lower than the optional workdays\n",
      "warning, activities per week is lower than the optional workdays\n",
      "warning, activities per week is lower than the optional workdays\n",
      "warning, activities per week is lower than the optional workdays\n",
      "warning, activities per week is lower than the optional workdays\n",
      "warning, activities per week is lower than the optional workdays\n",
      "warning, activities per week is lower than the optional workdays\n",
      "warning, activities per week is lower than the optional workdays\n",
      "warning, activities per week is lower than the optional workdays\n",
      "warning, activities per week is lower than the optional workdays\n",
      "warning, activities per week is lower than the optional workdays\n",
      "warning, activities per week is lower than the optional workdays\n",
      "warning, activities per week is lower than the optional workdays\n",
      "warning, activities per week is lower than the optional workdays\n",
      "warning, activities per week is lower than the optional workdays\n",
      "warning, activities per week is lower than the optional workdays\n",
      "warning, activities per week is lower than the optional workdays\n",
      "warning, activities per week is lower than the optional workdays\n",
      "warning, activities per week is lower than the optional workdays\n",
      "warning, activities per week is lower than the optional workdays\n",
      "warning, activities per week is lower than the optional workdays\n",
      "warning, activities per week is lower than the optional workdays\n",
      "warning, activities per week is lower than the optional workdays\n",
      "warning, activities per week is lower than the optional workdays\n",
      "warning, activities per week is lower than the optional workdays\n",
      "warning, activities per week is lower than the optional workdays\n",
      "warning, activities per week is lower than the optional workdays\n",
      "warning, activities per week is lower than the optional workdays\n",
      "warning, activities per week is lower than the optional workdays\n",
      "warning, activities per week is lower than the optional workdays\n",
      "warning, activities per week is lower than the optional workdays\n",
      "warning, activities per week is lower than the optional workdays\n",
      "warning, activities per week is lower than the optional workdays\n",
      "warning, activities per week is lower than the optional workdays\n",
      "warning, activities per week is lower than the optional workdays\n",
      "warning, activities per week is lower than the optional workdays\n",
      "warning, activities per week is lower than the optional workdays\n",
      "warning, activities per week is lower than the optional workdays\n",
      "warning, activities per week is lower than the optional workdays\n",
      "warning, activities per week is lower than the optional workdays\n",
      "warning, activities per week is lower than the optional workdays\n",
      "warning, activities per week is lower than the optional workdays\n",
      "warning, activities per week is lower than the optional workdays\n",
      "warning, activities per week is lower than the optional workdays\n",
      "warning, activities per week is lower than the optional workdays\n",
      "warning, activities per week is lower than the optional workdays\n",
      "warning, activities per week is lower than the optional workdays\n",
      "warning, activities per week is lower than the optional workdays\n",
      "warning, activities per week is lower than the optional workdays\n",
      "warning, activities per week is lower than the optional workdays\n",
      "warning, activities per week is lower than the optional workdays\n",
      "warning, activities per week is lower than the optional workdays\n",
      "warning, activities per week is lower than the optional workdays\n",
      "warning, activities per week is lower than the optional workdays\n",
      "warning, activities per week is lower than the optional workdays\n",
      "warning, activities per week is lower than the optional workdays\n",
      "warning, activities per week is lower than the optional workdays\n",
      "warning, activities per week is lower than the optional workdays\n",
      "warning, activities per week is lower than the optional workdays\n",
      "warning, activities per week is lower than the optional workdays\n",
      "warning, activities per week is lower than the optional workdays\n",
      "warning, activities per week is lower than the optional workdays\n",
      "warning, activities per week is lower than the optional workdays\n",
      "warning, activities per week is lower than the optional workdays\n",
      "warning, activities per week is lower than the optional workdays\n",
      "warning, activities per week is lower than the optional workdays\n",
      "warning, activities per week is lower than the optional workdays\n",
      "warning, activities per week is lower than the optional workdays\n",
      "warning, activities per week is lower than the optional workdays\n",
      "warning, activities per week is lower than the optional workdays\n",
      "warning, activities per week is lower than the optional workdays\n",
      "warning, activities per week is lower than the optional workdays\n",
      "warning, activities per week is lower than the optional workdays\n",
      "warning, activities per week is lower than the optional workdays\n",
      "warning, activities per week is lower than the optional workdays\n",
      "warning, activities per week is lower than the optional workdays\n",
      "warning, activities per week is lower than the optional workdays\n",
      "warning, activities per week is lower than the optional workdays\n",
      "warning, activities per week is lower than the optional workdays\n",
      "warning, activities per week is lower than the optional workdays\n",
      "warning, activities per week is lower than the optional workdays\n",
      "warning, activities per week is lower than the optional workdays\n",
      "warning, activities per week is lower than the optional workdays\n",
      "warning, activities per week is lower than the optional workdays\n",
      "warning, activities per week is lower than the optional workdays\n",
      "warning, activities per week is lower than the optional workdays\n",
      "warning, activities per week is lower than the optional workdays\n",
      "warning, activities per week is lower than the optional workdays\n",
      "warning, activities per week is lower than the optional workdays\n",
      "warning, activities per week is lower than the optional workdays\n",
      "warning, activities per week is lower than the optional workdays\n",
      "warning, activities per week is lower than the optional workdays\n",
      "warning, activities per week is lower than the optional workdays\n",
      "warning, activities per week is lower than the optional workdays\n",
      "warning, activities per week is lower than the optional workdays\n",
      "warning, activities per week is lower than the optional workdays\n",
      "warning, activities per week is lower than the optional workdays\n",
      "warning, activities per week is lower than the optional workdays\n",
      "warning, activities per week is lower than the optional workdays\n",
      "warning, activities per week is lower than the optional workdays\n",
      "warning, activities per week is lower than the optional workdays\n",
      "warning, activities per week is lower than the optional workdays\n",
      "warning, activities per week is lower than the optional workdays\n"
     ]
    },
    {
     "name": "stdout",
     "output_type": "stream",
     "text": [
      "warning, activities per week is lower than the optional workdays\n",
      "warning, activities per week is lower than the optional workdays\n",
      "warning, activities per week is lower than the optional workdays\n",
      "warning, activities per week is lower than the optional workdays\n",
      "warning, activities per week is lower than the optional workdays\n",
      "warning, activities per week is lower than the optional workdays\n",
      "warning, activities per week is lower than the optional workdays\n",
      "warning, activities per week is lower than the optional workdays\n",
      "warning, activities per week is lower than the optional workdays\n",
      "warning, activities per week is lower than the optional workdays\n",
      "warning, activities per week is lower than the optional workdays\n",
      "warning, activities per week is lower than the optional workdays\n",
      "warning, activities per week is lower than the optional workdays\n",
      "warning, activities per week is lower than the optional workdays\n",
      "warning, activities per week is lower than the optional workdays\n",
      "warning, activities per week is lower than the optional workdays\n",
      "warning, activities per week is lower than the optional workdays\n",
      "warning, activities per week is lower than the optional workdays\n",
      "warning, activities per week is lower than the optional workdays\n",
      "warning, activities per week is lower than the optional workdays\n",
      "warning, activities per week is lower than the optional workdays\n",
      "warning, activities per week is lower than the optional workdays\n",
      "warning, activities per week is lower than the optional workdays\n",
      "warning, activities per week is lower than the optional workdays\n",
      "warning, activities per week is lower than the optional workdays\n",
      "warning, activities per week is lower than the optional workdays\n",
      "warning, activities per week is lower than the optional workdays\n",
      "warning, activities per week is lower than the optional workdays\n",
      "warning, activities per week is lower than the optional workdays\n",
      "warning, activities per week is lower than the optional workdays\n",
      "warning, activities per week is lower than the optional workdays\n",
      "warning, activities per week is lower than the optional workdays\n",
      "warning, activities per week is lower than the optional workdays\n",
      "warning, activities per week is lower than the optional workdays\n",
      "warning, activities per week is lower than the optional workdays\n",
      "warning, activities per week is lower than the optional workdays\n",
      "warning, activities per week is lower than the optional workdays\n",
      "warning, activities per week is lower than the optional workdays\n",
      "warning, activities per week is lower than the optional workdays\n",
      "warning, activities per week is lower than the optional workdays\n",
      "warning, activities per week is lower than the optional workdays\n",
      "warning, activities per week is lower than the optional workdays\n",
      "warning, activities per week is lower than the optional workdays\n",
      "warning, activities per week is lower than the optional workdays\n",
      "warning, activities per week is lower than the optional workdays\n",
      "warning, activities per week is lower than the optional workdays\n",
      "warning, activities per week is lower than the optional workdays\n",
      "warning, activities per week is lower than the optional workdays\n",
      "warning, activities per week is lower than the optional workdays\n",
      "warning, activities per week is lower than the optional workdays\n",
      "warning, activities per week is lower than the optional workdays\n",
      "warning, activities per week is lower than the optional workdays\n",
      "warning, activities per week is lower than the optional workdays\n",
      "warning, activities per week is lower than the optional workdays\n",
      "warning, activities per week is lower than the optional workdays\n",
      "warning, activities per week is lower than the optional workdays\n",
      "warning, activities per week is lower than the optional workdays\n",
      "warning, activities per week is lower than the optional workdays\n",
      "warning, activities per week is lower than the optional workdays\n",
      "warning, activities per week is lower than the optional workdays\n",
      "warning, activities per week is lower than the optional workdays\n",
      "warning, activities per week is lower than the optional workdays\n",
      "warning, activities per week is lower than the optional workdays\n",
      "warning, activities per week is lower than the optional workdays\n",
      "warning, activities per week is lower than the optional workdays\n",
      "warning, activities per week is lower than the optional workdays\n",
      "warning, activities per week is lower than the optional workdays\n",
      "warning, activities per week is lower than the optional workdays\n",
      "warning, activities per week is lower than the optional workdays\n",
      "warning, activities per week is lower than the optional workdays\n",
      "warning, activities per week is lower than the optional workdays\n",
      "warning, activities per week is lower than the optional workdays\n",
      "warning, activities per week is lower than the optional workdays\n",
      "warning, activities per week is lower than the optional workdays\n",
      "warning, activities per week is lower than the optional workdays\n",
      "warning, activities per week is lower than the optional workdays\n",
      "warning, activities per week is lower than the optional workdays\n",
      "warning, activities per week is lower than the optional workdays\n",
      "warning, activities per week is lower than the optional workdays\n",
      "warning, activities per week is lower than the optional workdays\n",
      "warning, activities per week is lower than the optional workdays\n",
      "warning, activities per week is lower than the optional workdays\n",
      "warning, activities per week is lower than the optional workdays\n",
      "warning, activities per week is lower than the optional workdays\n",
      "warning, activities per week is lower than the optional workdays\n",
      "warning, activities per week is lower than the optional workdays\n",
      "warning, activities per week is lower than the optional workdays\n",
      "warning, activities per week is lower than the optional workdays\n",
      "warning, activities per week is lower than the optional workdays\n",
      "warning, activities per week is lower than the optional workdays\n",
      "warning, activities per week is lower than the optional workdays\n",
      "warning, activities per week is lower than the optional workdays\n",
      "warning, activities per week is lower than the optional workdays\n",
      "warning, activities per week is lower than the optional workdays\n",
      "warning, activities per week is lower than the optional workdays\n",
      "warning, activities per week is lower than the optional workdays\n",
      "warning, activities per week is lower than the optional workdays\n",
      "warning, activities per week is lower than the optional workdays\n",
      "warning, activities per week is lower than the optional workdays\n",
      "warning, activities per week is lower than the optional workdays\n",
      "warning, activities per week is lower than the optional workdays\n",
      "warning, activities per week is lower than the optional workdays\n",
      "warning, activities per week is lower than the optional workdays\n",
      "warning, activities per week is lower than the optional workdays\n",
      "warning, activities per week is lower than the optional workdays\n",
      "warning, activities per week is lower than the optional workdays\n",
      "warning, activities per week is lower than the optional workdays\n",
      "warning, activities per week is lower than the optional workdays\n",
      "warning, activities per week is lower than the optional workdays\n",
      "warning, activities per week is lower than the optional workdays\n",
      "warning, activities per week is lower than the optional workdays\n",
      "warning, activities per week is lower than the optional workdays\n",
      "warning, activities per week is lower than the optional workdays\n",
      "warning, activities per week is lower than the optional workdays\n",
      "warning, activities per week is lower than the optional workdays\n",
      "warning, activities per week is lower than the optional workdays\n",
      "warning, activities per week is lower than the optional workdays\n",
      "warning, activities per week is lower than the optional workdays\n",
      "warning, activities per week is lower than the optional workdays\n",
      "warning, activities per week is lower than the optional workdays\n",
      "warning, activities per week is lower than the optional workdays\n",
      "warning, activities per week is lower than the optional workdays\n",
      "warning, activities per week is lower than the optional workdays\n",
      "warning, activities per week is lower than the optional workdays\n",
      "warning, activities per week is lower than the optional workdays\n",
      "warning, activities per week is lower than the optional workdays\n",
      "warning, activities per week is lower than the optional workdays\n",
      "warning, activities per week is lower than the optional workdays\n",
      "warning, activities per week is lower than the optional workdays\n",
      "warning, activities per week is lower than the optional workdays\n",
      "warning, activities per week is lower than the optional workdays\n",
      "warning, activities per week is lower than the optional workdays\n",
      "warning, activities per week is lower than the optional workdays\n",
      "warning, activities per week is lower than the optional workdays\n",
      "warning, activities per week is lower than the optional workdays\n",
      "warning, activities per week is lower than the optional workdays\n",
      "warning, activities per week is lower than the optional workdays\n",
      "warning, activities per week is lower than the optional workdays\n",
      "warning, activities per week is lower than the optional workdays\n",
      "warning, activities per week is lower than the optional workdays\n",
      "warning, activities per week is lower than the optional workdays\n",
      "warning, activities per week is lower than the optional workdays\n",
      "warning, activities per week is lower than the optional workdays\n",
      "warning, activities per week is lower than the optional workdays\n",
      "warning, activities per week is lower than the optional workdays\n",
      "warning, activities per week is lower than the optional workdays\n",
      "warning, activities per week is lower than the optional workdays\n",
      "warning, activities per week is lower than the optional workdays\n",
      "warning, activities per week is lower than the optional workdays\n",
      "warning, activities per week is lower than the optional workdays\n",
      "warning, activities per week is lower than the optional workdays\n",
      "warning, activities per week is lower than the optional workdays\n",
      "warning, activities per week is lower than the optional workdays\n",
      "warning, activities per week is lower than the optional workdays\n",
      "warning, activities per week is lower than the optional workdays\n",
      "warning, activities per week is lower than the optional workdays\n",
      "warning, activities per week is lower than the optional workdays\n",
      "warning, activities per week is lower than the optional workdays\n",
      "warning, activities per week is lower than the optional workdays\n",
      "warning, activities per week is lower than the optional workdays\n",
      "warning, activities per week is lower than the optional workdays\n",
      "warning, activities per week is lower than the optional workdays\n",
      "warning, activities per week is lower than the optional workdays\n",
      "warning, activities per week is lower than the optional workdays\n",
      "warning, activities per week is lower than the optional workdays\n",
      "warning, activities per week is lower than the optional workdays\n",
      "warning, activities per week is lower than the optional workdays\n",
      "warning, activities per week is lower than the optional workdays\n",
      "warning, activities per week is lower than the optional workdays\n",
      "warning, activities per week is lower than the optional workdays\n",
      "warning, activities per week is lower than the optional workdays\n",
      "warning, activities per week is lower than the optional workdays\n",
      "warning, activities per week is lower than the optional workdays\n",
      "warning, activities per week is lower than the optional workdays\n",
      "warning, activities per week is lower than the optional workdays\n",
      "warning, activities per week is lower than the optional workdays\n",
      "warning, activities per week is lower than the optional workdays\n"
     ]
    },
    {
     "name": "stdout",
     "output_type": "stream",
     "text": [
      "warning, activities per week is lower than the optional workdays\n",
      "warning, activities per week is lower than the optional workdays\n",
      "warning, activities per week is lower than the optional workdays\n",
      "warning, activities per week is lower than the optional workdays\n",
      "warning, activities per week is lower than the optional workdays\n",
      "warning, activities per week is lower than the optional workdays\n",
      "warning, activities per week is lower than the optional workdays\n",
      "warning, activities per week is lower than the optional workdays\n",
      "warning, activities per week is lower than the optional workdays\n",
      "warning, activities per week is lower than the optional workdays\n",
      "warning, activities per week is lower than the optional workdays\n",
      "warning, activities per week is lower than the optional workdays\n",
      "warning, activities per week is lower than the optional workdays\n",
      "warning, activities per week is lower than the optional workdays\n",
      "warning, activities per week is lower than the optional workdays\n",
      "warning, activities per week is lower than the optional workdays\n",
      "warning, activities per week is lower than the optional workdays\n",
      "warning, activities per week is lower than the optional workdays\n",
      "warning, activities per week is lower than the optional workdays\n",
      "warning, activities per week is lower than the optional workdays\n",
      "warning, activities per week is lower than the optional workdays\n",
      "warning, activities per week is lower than the optional workdays\n",
      "warning, activities per week is lower than the optional workdays\n",
      "warning, activities per week is lower than the optional workdays\n",
      "warning, activities per week is lower than the optional workdays\n",
      "warning, activities per week is lower than the optional workdays\n",
      "warning, activities per week is lower than the optional workdays\n",
      "warning, activities per week is lower than the optional workdays\n",
      "warning, activities per week is lower than the optional workdays\n",
      "warning, activities per week is lower than the optional workdays\n",
      "warning, activities per week is lower than the optional workdays\n",
      "warning, activities per week is lower than the optional workdays\n",
      "warning, activities per week is lower than the optional workdays\n",
      "warning, activities per week is lower than the optional workdays\n",
      "warning, activities per week is lower than the optional workdays\n",
      "warning, activities per week is lower than the optional workdays\n",
      "warning, activities per week is lower than the optional workdays\n",
      "warning, activities per week is lower than the optional workdays\n",
      "warning, activities per week is lower than the optional workdays\n",
      "warning, activities per week is lower than the optional workdays\n",
      "warning, activities per week is lower than the optional workdays\n",
      "warning, activities per week is lower than the optional workdays\n",
      "warning, activities per week is lower than the optional workdays\n",
      "warning, activities per week is lower than the optional workdays\n",
      "warning, activities per week is lower than the optional workdays\n",
      "warning, activities per week is lower than the optional workdays\n",
      "warning, activities per week is lower than the optional workdays\n",
      "warning, activities per week is lower than the optional workdays\n",
      "warning, activities per week is lower than the optional workdays\n",
      "warning, activities per week is lower than the optional workdays\n",
      "warning, activities per week is lower than the optional workdays\n",
      "warning, activities per week is lower than the optional workdays\n",
      "warning, activities per week is lower than the optional workdays\n",
      "warning, activities per week is lower than the optional workdays\n",
      "warning, activities per week is lower than the optional workdays\n",
      "warning, activities per week is lower than the optional workdays\n",
      "warning, activities per week is lower than the optional workdays\n",
      "warning, activities per week is lower than the optional workdays\n",
      "warning, activities per week is lower than the optional workdays\n",
      "warning, activities per week is lower than the optional workdays\n",
      "warning, activities per week is lower than the optional workdays\n",
      "warning, activities per week is lower than the optional workdays\n",
      "warning, activities per week is lower than the optional workdays\n",
      "warning, activities per week is lower than the optional workdays\n",
      "warning, activities per week is lower than the optional workdays\n",
      "warning, activities per week is lower than the optional workdays\n",
      "warning, activities per week is lower than the optional workdays\n",
      "warning, activities per week is lower than the optional workdays\n",
      "warning, activities per week is lower than the optional workdays\n",
      "warning, activities per week is lower than the optional workdays\n",
      "warning, activities per week is lower than the optional workdays\n",
      "warning, activities per week is lower than the optional workdays\n",
      "warning, activities per week is lower than the optional workdays\n",
      "warning, activities per week is lower than the optional workdays\n",
      "warning, activities per week is lower than the optional workdays\n",
      "warning, activities per week is lower than the optional workdays\n",
      "warning, activities per week is lower than the optional workdays\n",
      "warning, activities per week is lower than the optional workdays\n",
      "warning, activities per week is lower than the optional workdays\n",
      "warning, activities per week is lower than the optional workdays\n",
      "warning, activities per week is lower than the optional workdays\n",
      "warning, activities per week is lower than the optional workdays\n",
      "warning, activities per week is lower than the optional workdays\n",
      "warning, activities per week is lower than the optional workdays\n",
      "warning, activities per week is lower than the optional workdays\n",
      "warning, activities per week is lower than the optional workdays\n",
      "warning, activities per week is lower than the optional workdays\n",
      "warning, activities per week is lower than the optional workdays\n",
      "warning, activities per week is lower than the optional workdays\n",
      "warning, activities per week is lower than the optional workdays\n",
      "warning, activities per week is lower than the optional workdays\n",
      "warning, activities per week is lower than the optional workdays\n",
      "warning, activities per week is lower than the optional workdays\n",
      "warning, activities per week is lower than the optional workdays\n",
      "warning, activities per week is lower than the optional workdays\n",
      "warning, activities per week is lower than the optional workdays\n",
      "warning, activities per week is lower than the optional workdays\n",
      "warning, activities per week is lower than the optional workdays\n",
      "warning, activities per week is lower than the optional workdays\n",
      "warning, activities per week is lower than the optional workdays\n",
      "warning, activities per week is lower than the optional workdays\n",
      "warning, activities per week is lower than the optional workdays\n",
      "warning, activities per week is lower than the optional workdays\n",
      "warning, activities per week is lower than the optional workdays\n",
      "warning, activities per week is lower than the optional workdays\n",
      "warning, activities per week is lower than the optional workdays\n",
      "warning, activities per week is lower than the optional workdays\n",
      "warning, activities per week is lower than the optional workdays\n",
      "warning, activities per week is lower than the optional workdays\n",
      "warning, activities per week is lower than the optional workdays\n",
      "warning, activities per week is lower than the optional workdays\n",
      "warning, activities per week is lower than the optional workdays\n",
      "warning, activities per week is lower than the optional workdays\n",
      "warning, activities per week is lower than the optional workdays\n",
      "warning, activities per week is lower than the optional workdays\n",
      "warning, activities per week is lower than the optional workdays\n",
      "warning, activities per week is lower than the optional workdays\n",
      "warning, activities per week is lower than the optional workdays\n",
      "warning, activities per week is lower than the optional workdays\n",
      "warning, activities per week is lower than the optional workdays\n",
      "warning, activities per week is lower than the optional workdays\n",
      "warning, activities per week is lower than the optional workdays\n",
      "warning, activities per week is lower than the optional workdays\n",
      "warning, activities per week is lower than the optional workdays\n",
      "warning, activities per week is lower than the optional workdays\n",
      "warning, activities per week is lower than the optional workdays\n",
      "warning, activities per week is lower than the optional workdays\n",
      "warning, activities per week is lower than the optional workdays\n",
      "warning, activities per week is lower than the optional workdays\n"
     ]
    }
   ],
   "source": [
    "sim = Simulator.Simulator(\"../config/jobs.csv\",osmMap,agentNum = 1000,threadNumber = 6, infectedAgent = 0.1)"
   ]
  },
  {
   "cell_type": "code",
   "execution_count": 9,
   "metadata": {
    "scrolled": true
   },
   "outputs": [
    {
     "data": {
      "text/plain": [
       "995"
      ]
     },
     "execution_count": 9,
     "metadata": {},
     "output_type": "execute_result"
    }
   ],
   "source": [
    "len(sim.agents)"
   ]
  },
  {
   "cell_type": "code",
   "execution_count": 10,
   "metadata": {
    "scrolled": false
   },
   "outputs": [],
   "source": [
    "x = threading.Thread(target=showData, args=(sim,))\n",
    "x.start()\n",
    "#sim.stepCount = 3600*8"
   ]
  },
  {
   "cell_type": "code",
   "execution_count": 11,
   "metadata": {
    "scrolled": true
   },
   "outputs": [],
   "source": [
    "#y = threading.Thread(target=showPieChart, args=(sim,))\n",
    "#y.start()"
   ]
  },
  {
   "cell_type": "code",
   "execution_count": null,
   "metadata": {},
   "outputs": [],
   "source": []
  },
  {
   "cell_type": "code",
   "execution_count": 12,
   "metadata": {
    "scrolled": true
   },
   "outputs": [
    {
     "name": "stdout",
     "output_type": "stream",
     "text": [
      "double click\n",
      "Current Time = 0:0.0\n",
      " "
     ]
    },
    {
     "name": "stderr",
     "output_type": "stream",
     "text": [
      "Process Thread 1:\n"
     ]
    },
    {
     "data": {
      "application/vnd.jupyter.widget-view+json": {
       "model_id": "140d6f8227fa4f20aaf027d006cdf083",
       "version_major": 2,
       "version_minor": 0
      },
      "text/plain": [
       "VBox()"
      ]
     },
     "metadata": {},
     "output_type": "display_data"
    },
    {
     "name": "stderr",
     "output_type": "stream",
     "text": [
      "Traceback (most recent call last):\n",
      "  File \"/usr/lib/python3.6/multiprocessing/process.py\", line 258, in _bootstrap\n",
      "    self.run()\n",
      "  File \"/media/rithgroove/my SSD/work/Epidemicon/example/../lib/Simulation/StepThread.py\", line 35, in run\n",
      "    self.step()\n"
     ]
    },
    {
     "name": "stdout",
     "output_type": "stream",
     "text": [
      " "
     ]
    },
    {
     "name": "stderr",
     "output_type": "stream",
     "text": [
      "  File \"/media/rithgroove/my SSD/work/Epidemicon/example/../lib/Simulation/StepThread.py\", line 45, in step\n",
      "    result = self.agents[i].checkSchedule(day,hour,self.stepValue)\n",
      "  File \"/media/rithgroove/my SSD/work/Epidemicon/example/../lib/Simulation/Agent.py\", line 57, in checkSchedule\n",
      "    if (self.activeSequence is None and self.activeSequence.finished):\n",
      "AttributeError: 'NoneType' object has no attribute 'finished'\n"
     ]
    },
    {
     "data": {
      "application/vnd.jupyter.widget-view+json": {
       "model_id": "60e8ea9f2e4e480cbde6315c32ce4225",
       "version_major": 2,
       "version_minor": 0
      },
      "text/plain": [
       "VBox()"
      ]
     },
     "metadata": {},
     "output_type": "display_data"
    },
    {
     "name": "stderr",
     "output_type": "stream",
     "text": [
      "Process Thread 2:\n",
      "Traceback (most recent call last):\n",
      "  File \"/usr/lib/python3.6/multiprocessing/process.py\", line 258, in _bootstrap\n",
      "    self.run()\n",
      "  File \"/media/rithgroove/my SSD/work/Epidemicon/example/../lib/Simulation/StepThread.py\", line 35, in run\n",
      "    self.step()\n",
      "  File \"/media/rithgroove/my SSD/work/Epidemicon/example/../lib/Simulation/StepThread.py\", line 45, in step\n",
      "    result = self.agents[i].checkSchedule(day,hour,self.stepValue)\n",
      "  File \"/media/rithgroove/my SSD/work/Epidemicon/example/../lib/Simulation/Agent.py\", line 57, in checkSchedule\n",
      "    if (self.activeSequence is None and self.activeSequence.finished):\n",
      "AttributeError: 'NoneType' object has no attribute 'finished'\n"
     ]
    },
    {
     "name": "stdout",
     "output_type": "stream",
     "text": [
      " "
     ]
    },
    {
     "data": {
      "application/vnd.jupyter.widget-view+json": {
       "model_id": "a7109b9b5a594831a82c0ea02db8415e",
       "version_major": 2,
       "version_minor": 0
      },
      "text/plain": [
       "VBox()"
      ]
     },
     "metadata": {},
     "output_type": "display_data"
    },
    {
     "name": "stderr",
     "output_type": "stream",
     "text": [
      "Process Thread 3:\n",
      "Traceback (most recent call last):\n",
      "  File \"/usr/lib/python3.6/multiprocessing/process.py\", line 258, in _bootstrap\n",
      "    self.run()\n",
      "  File \"/media/rithgroove/my SSD/work/Epidemicon/example/../lib/Simulation/StepThread.py\", line 35, in run\n",
      "    self.step()\n",
      "  File \"/media/rithgroove/my SSD/work/Epidemicon/example/../lib/Simulation/StepThread.py\", line 45, in step\n",
      "    result = self.agents[i].checkSchedule(day,hour,self.stepValue)\n",
      "  File \"/media/rithgroove/my SSD/work/Epidemicon/example/../lib/Simulation/Agent.py\", line 57, in checkSchedule\n",
      "    if (self.activeSequence is None and self.activeSequence.finished):\n",
      "AttributeError: 'NoneType' object has no attribute 'finished'\n"
     ]
    },
    {
     "name": "stdout",
     "output_type": "stream",
     "text": [
      " "
     ]
    },
    {
     "name": "stderr",
     "output_type": "stream",
     "text": [
      "Process Thread 4:\n"
     ]
    },
    {
     "data": {
      "application/vnd.jupyter.widget-view+json": {
       "model_id": "036e005ba74e476bb8c06e377f1229e1",
       "version_major": 2,
       "version_minor": 0
      },
      "text/plain": [
       "VBox()"
      ]
     },
     "metadata": {},
     "output_type": "display_data"
    },
    {
     "name": "stderr",
     "output_type": "stream",
     "text": [
      "Traceback (most recent call last):\n",
      "  File \"/usr/lib/python3.6/multiprocessing/process.py\", line 258, in _bootstrap\n",
      "    self.run()\n",
      "  File \"/media/rithgroove/my SSD/work/Epidemicon/example/../lib/Simulation/StepThread.py\", line 35, in run\n",
      "    self.step()\n",
      "  File \"/media/rithgroove/my SSD/work/Epidemicon/example/../lib/Simulation/StepThread.py\", line 45, in step\n",
      "    result = self.agents[i].checkSchedule(day,hour,self.stepValue)\n",
      "  File \"/media/rithgroove/my SSD/work/Epidemicon/example/../lib/Simulation/Agent.py\", line 57, in checkSchedule\n",
      "    if (self.activeSequence is None and self.activeSequence.finished):\n",
      "AttributeError: 'NoneType' object has no attribute 'finished'\n"
     ]
    },
    {
     "name": "stdout",
     "output_type": "stream",
     "text": [
      " "
     ]
    },
    {
     "name": "stderr",
     "output_type": "stream",
     "text": [
      "Process Thread 5:\n"
     ]
    },
    {
     "data": {
      "application/vnd.jupyter.widget-view+json": {
       "model_id": "0f4203539a63453f8665ec03dc6d11cd",
       "version_major": 2,
       "version_minor": 0
      },
      "text/plain": [
       "VBox()"
      ]
     },
     "metadata": {},
     "output_type": "display_data"
    },
    {
     "name": "stderr",
     "output_type": "stream",
     "text": [
      "Traceback (most recent call last):\n",
      "  File \"/usr/lib/python3.6/multiprocessing/process.py\", line 258, in _bootstrap\n",
      "    self.run()\n",
      "  File \"/media/rithgroove/my SSD/work/Epidemicon/example/../lib/Simulation/StepThread.py\", line 35, in run\n",
      "    self.step()\n",
      "  File \"/media/rithgroove/my SSD/work/Epidemicon/example/../lib/Simulation/StepThread.py\", line 45, in step\n",
      "    result = self.agents[i].checkSchedule(day,hour,self.stepValue)\n",
      "  File \"/media/rithgroove/my SSD/work/Epidemicon/example/../lib/Simulation/Agent.py\", line 57, in checkSchedule\n",
      "    if (self.activeSequence is None and self.activeSequence.finished):\n",
      "AttributeError: 'NoneType' object has no attribute 'finished'\n"
     ]
    },
    {
     "name": "stdout",
     "output_type": "stream",
     "text": [
      " "
     ]
    },
    {
     "name": "stderr",
     "output_type": "stream",
     "text": [
      "Process Thread 6:\n"
     ]
    },
    {
     "data": {
      "application/vnd.jupyter.widget-view+json": {
       "model_id": "fc5b0d6f40cc4a1d9a0cb562a85cae14",
       "version_major": 2,
       "version_minor": 0
      },
      "text/plain": [
       "VBox()"
      ]
     },
     "metadata": {},
     "output_type": "display_data"
    },
    {
     "name": "stderr",
     "output_type": "stream",
     "text": [
      "Traceback (most recent call last):\n",
      "  File \"/usr/lib/python3.6/multiprocessing/process.py\", line 258, in _bootstrap\n",
      "    self.run()\n",
      "  File \"/media/rithgroove/my SSD/work/Epidemicon/example/../lib/Simulation/StepThread.py\", line 35, in run\n",
      "    self.step()\n",
      "  File \"/media/rithgroove/my SSD/work/Epidemicon/example/../lib/Simulation/StepThread.py\", line 45, in step\n",
      "    result = self.agents[i].checkSchedule(day,hour,self.stepValue)\n",
      "  File \"/media/rithgroove/my SSD/work/Epidemicon/example/../lib/Simulation/Agent.py\", line 57, in checkSchedule\n",
      "    if (self.activeSequence is None and self.activeSequence.finished):\n",
      "AttributeError: 'NoneType' object has no attribute 'finished'\n"
     ]
    },
    {
     "name": "stdout",
     "output_type": "stream",
     "text": [
      "Finished finalizing the infection\n",
      "\n",
      "known infection location\n",
      "Initial = 99\n",
      "\n",
      "\n",
      "finish stepping\n",
      "moving agents in renderer\n",
      "Current Time = 0:5.0\n",
      "Finished finalizing the infection\n",
      "\n",
      "known infection location\n",
      "Initial = 99\n",
      "\n",
      "\n",
      "finish stepping\n",
      "moving agents in renderer\n"
     ]
    },
    {
     "ename": "KeyboardInterrupt",
     "evalue": "",
     "output_type": "error",
     "traceback": [
      "\u001b[0;31m---------------------------------------------------------------------------\u001b[0m",
      "\u001b[0;31mKeyboardInterrupt\u001b[0m                         Traceback (most recent call last)",
      "\u001b[0;32m<ipython-input-12-57a6b31f27f5>\u001b[0m in \u001b[0;36m<module>\u001b[0;34m\u001b[0m\n\u001b[0;32m----> 1\u001b[0;31m \u001b[0mrenderer\u001b[0m\u001b[0;34m.\u001b[0m\u001b[0mrender\u001b[0m\u001b[0;34m(\u001b[0m\u001b[0mosmMap\u001b[0m\u001b[0;34m,\u001b[0m\u001b[0msim\u001b[0m\u001b[0;34m,\u001b[0m\u001b[0mstepLength\u001b[0m \u001b[0;34m=\u001b[0m \u001b[0;36m300\u001b[0m\u001b[0;34m)\u001b[0m\u001b[0;34m\u001b[0m\u001b[0;34m\u001b[0m\u001b[0m\n\u001b[0m",
      "\u001b[0;32m/media/rithgroove/my SSD/work/Epidemicon/example/../lib/Renderer/Renderer.py\u001b[0m in \u001b[0;36mrender\u001b[0;34m(map, simulation, path, stepLength)\u001b[0m\n\u001b[1;32m    361\u001b[0m         \u001b[0mx\u001b[0m\u001b[0;34m.\u001b[0m\u001b[0mstart\u001b[0m\u001b[0;34m(\u001b[0m\u001b[0;34m)\u001b[0m\u001b[0;34m\u001b[0m\u001b[0;34m\u001b[0m\u001b[0m\n\u001b[1;32m    362\u001b[0m         \u001b[0mcanvas\u001b[0m\u001b[0;34m.\u001b[0m\u001b[0mafter\u001b[0m\u001b[0;34m(\u001b[0m\u001b[0;36m1000\u001b[0m\u001b[0;34m,\u001b[0m\u001b[0mstep\u001b[0m\u001b[0;34m)\u001b[0m\u001b[0;34m\u001b[0m\u001b[0;34m\u001b[0m\u001b[0m\n\u001b[0;32m--> 363\u001b[0;31m     \u001b[0mroot\u001b[0m\u001b[0;34m.\u001b[0m\u001b[0mmainloop\u001b[0m\u001b[0;34m(\u001b[0m\u001b[0;34m)\u001b[0m\u001b[0;34m\u001b[0m\u001b[0;34m\u001b[0m\u001b[0m\n\u001b[0m",
      "\u001b[0;32m/usr/lib/python3.6/tkinter/__init__.py\u001b[0m in \u001b[0;36mmainloop\u001b[0;34m(self, n)\u001b[0m\n\u001b[1;32m   1281\u001b[0m     \u001b[0;32mdef\u001b[0m \u001b[0mmainloop\u001b[0m\u001b[0;34m(\u001b[0m\u001b[0mself\u001b[0m\u001b[0;34m,\u001b[0m \u001b[0mn\u001b[0m\u001b[0;34m=\u001b[0m\u001b[0;36m0\u001b[0m\u001b[0;34m)\u001b[0m\u001b[0;34m:\u001b[0m\u001b[0;34m\u001b[0m\u001b[0;34m\u001b[0m\u001b[0m\n\u001b[1;32m   1282\u001b[0m         \u001b[0;34m\"\"\"Call the mainloop of Tk.\"\"\"\u001b[0m\u001b[0;34m\u001b[0m\u001b[0;34m\u001b[0m\u001b[0m\n\u001b[0;32m-> 1283\u001b[0;31m         \u001b[0mself\u001b[0m\u001b[0;34m.\u001b[0m\u001b[0mtk\u001b[0m\u001b[0;34m.\u001b[0m\u001b[0mmainloop\u001b[0m\u001b[0;34m(\u001b[0m\u001b[0mn\u001b[0m\u001b[0;34m)\u001b[0m\u001b[0;34m\u001b[0m\u001b[0;34m\u001b[0m\u001b[0m\n\u001b[0m\u001b[1;32m   1284\u001b[0m     \u001b[0;32mdef\u001b[0m \u001b[0mquit\u001b[0m\u001b[0;34m(\u001b[0m\u001b[0mself\u001b[0m\u001b[0;34m)\u001b[0m\u001b[0;34m:\u001b[0m\u001b[0;34m\u001b[0m\u001b[0;34m\u001b[0m\u001b[0m\n\u001b[1;32m   1285\u001b[0m         \u001b[0;34m\"\"\"Quit the Tcl interpreter. All widgets will be destroyed.\"\"\"\u001b[0m\u001b[0;34m\u001b[0m\u001b[0;34m\u001b[0m\u001b[0m\n",
      "\u001b[0;32m/usr/lib/python3.6/tkinter/__init__.py\u001b[0m in \u001b[0;36m__call__\u001b[0;34m(self, *args)\u001b[0m\n\u001b[1;32m   1698\u001b[0m         \u001b[0mself\u001b[0m\u001b[0;34m.\u001b[0m\u001b[0msubst\u001b[0m \u001b[0;34m=\u001b[0m \u001b[0msubst\u001b[0m\u001b[0;34m\u001b[0m\u001b[0;34m\u001b[0m\u001b[0m\n\u001b[1;32m   1699\u001b[0m         \u001b[0mself\u001b[0m\u001b[0;34m.\u001b[0m\u001b[0mwidget\u001b[0m \u001b[0;34m=\u001b[0m \u001b[0mwidget\u001b[0m\u001b[0;34m\u001b[0m\u001b[0;34m\u001b[0m\u001b[0m\n\u001b[0;32m-> 1700\u001b[0;31m     \u001b[0;32mdef\u001b[0m \u001b[0m__call__\u001b[0m\u001b[0;34m(\u001b[0m\u001b[0mself\u001b[0m\u001b[0;34m,\u001b[0m \u001b[0;34m*\u001b[0m\u001b[0margs\u001b[0m\u001b[0;34m)\u001b[0m\u001b[0;34m:\u001b[0m\u001b[0;34m\u001b[0m\u001b[0;34m\u001b[0m\u001b[0m\n\u001b[0m\u001b[1;32m   1701\u001b[0m         \u001b[0;34m\"\"\"Apply first function SUBST to arguments, than FUNC.\"\"\"\u001b[0m\u001b[0;34m\u001b[0m\u001b[0;34m\u001b[0m\u001b[0m\n\u001b[1;32m   1702\u001b[0m         \u001b[0;32mtry\u001b[0m\u001b[0;34m:\u001b[0m\u001b[0;34m\u001b[0m\u001b[0;34m\u001b[0m\u001b[0m\n",
      "\u001b[0;31mKeyboardInterrupt\u001b[0m: "
     ]
    }
   ],
   "source": [
    "renderer.render(osmMap,sim,stepLength = 300)"
   ]
  },
  {
   "cell_type": "code",
   "execution_count": null,
   "metadata": {},
   "outputs": [],
   "source": []
  },
  {
   "cell_type": "code",
   "execution_count": null,
   "metadata": {
    "scrolled": true
   },
   "outputs": [],
   "source": [
    "osmMap.summarizeBuilding()"
   ]
  },
  {
   "cell_type": "code",
   "execution_count": null,
   "metadata": {
    "scrolled": true
   },
   "outputs": [],
   "source": [
    "sim.history"
   ]
  },
  {
   "cell_type": "code",
   "execution_count": null,
   "metadata": {},
   "outputs": [],
   "source": [
    "for agent in sim.agents:\n",
    "    print(agent.home.groceries)"
   ]
  },
  {
   "cell_type": "markdown",
   "metadata": {},
   "source": []
  },
  {
   "cell_type": "markdown",
   "metadata": {},
   "source": [
    "showData(sim)"
   ]
  },
  {
   "cell_type": "markdown",
   "metadata": {},
   "source": [
    "\n",
    "sim.stepCount = 3600*8"
   ]
  },
  {
   "cell_type": "markdown",
   "metadata": {
    "scrolled": true
   },
   "source": [
    "x = threading.Thread(target=renderer.render, args=(osmMap,sim,))\n",
    "x.start()"
   ]
  },
  {
   "cell_type": "markdown",
   "metadata": {},
   "source": [
    "showData(sim)"
   ]
  },
  {
   "cell_type": "markdown",
   "metadata": {},
   "source": [
    "a = [(45,'for', 24), (3,'Geeks', 8), (20,'Geeks', 30)] \n",
    "a.sort(key=lambda x:x[1])\n",
    "a"
   ]
  },
  {
   "cell_type": "markdown",
   "metadata": {},
   "source": [
    "result"
   ]
  },
  {
   "cell_type": "markdown",
   "metadata": {},
   "source": [
    "print(osmMap.buildingsMap[\"b586\"])\n",
    "print(osmMap.buildingsMap[\"b586\"].node)\n",
    "print(osmMap.buildingsMap[\"b586\"].entryPoint)\n"
   ]
  },
  {
   "cell_type": "markdown",
   "metadata": {},
   "source": [
    "for x in sim.agents:\n",
    "    print(x.mainJob.isWorking(0,8))"
   ]
  },
  {
   "cell_type": "markdown",
   "metadata": {},
   "source": [
    "agent = sim.agents[1]"
   ]
  },
  {
   "cell_type": "markdown",
   "metadata": {},
   "source": [
    "agent.step(0,8,steps=15)"
   ]
  },
  {
   "cell_type": "markdown",
   "metadata": {},
   "source": [
    "sim.currentHour()"
   ]
  },
  {
   "cell_type": "markdown",
   "metadata": {},
   "source": [
    "print(agent.activeSequence)"
   ]
  },
  {
   "cell_type": "markdown",
   "metadata": {},
   "source": [
    "osmMap.findPath(agent,agent.mainJob.building)"
   ]
  },
  {
   "cell_type": "markdown",
   "metadata": {},
   "source": [
    "x = agent.currentNode.getMovementSequence(agent.mainJob.building.node)\n",
    "print (x)"
   ]
  },
  {
   "cell_type": "markdown",
   "metadata": {},
   "source": [
    "print(agent.currentNode)\n",
    "print(agent.home.node())"
   ]
  },
  {
   "cell_type": "markdown",
   "metadata": {},
   "source": [
    "agent.mainJob.isWorking(0,8)"
   ]
  },
  {
   "cell_type": "markdown",
   "metadata": {},
   "source": [
    "agent.mainJob.workdays"
   ]
  },
  {
   "cell_type": "markdown",
   "metadata": {},
   "source": [
    "b = agent.currentNode.getMovementSequence(agent.mainJob.building.node)  \n",
    "print(b)"
   ]
  },
  {
   "cell_type": "markdown",
   "metadata": {},
   "source": [
    "from lib.Map.PathFinder import searchPath\n",
    "distance, sequence = searchPath(osmMap,agent.currentNode,agent.mainJob.building.node)  "
   ]
  },
  {
   "cell_type": "markdown",
   "metadata": {},
   "source": [
    "sequence"
   ]
  },
  {
   "cell_type": "markdown",
   "metadata": {},
   "source": [
    "distance"
   ]
  },
  {
   "cell_type": "markdown",
   "metadata": {},
   "source": [
    "agent.setMovementSequence(activeSequence)"
   ]
  },
  {
   "cell_type": "markdown",
   "metadata": {},
   "source": [
    "agent.currentNode.addMovementSequence(sequence.clone())      "
   ]
  },
  {
   "cell_type": "markdown",
   "metadata": {},
   "source": []
  },
  {
   "cell_type": "code",
   "execution_count": null,
   "metadata": {
    "scrolled": true
   },
   "outputs": [],
   "source": []
  },
  {
   "cell_type": "raw",
   "metadata": {},
   "source": []
  }
 ],
 "metadata": {
  "kernelspec": {
   "display_name": "Python 3",
   "language": "python",
   "name": "python3"
  },
  "language_info": {
   "codemirror_mode": {
    "name": "ipython",
    "version": 3
   },
   "file_extension": ".py",
   "mimetype": "text/x-python",
   "name": "python",
   "nbconvert_exporter": "python",
   "pygments_lexer": "ipython3",
   "version": "3.6.9"
  }
 },
 "nbformat": 4,
 "nbformat_minor": 2
}
