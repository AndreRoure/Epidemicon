{
 "cells": [
  {
   "cell_type": "markdown",
   "metadata": {},
   "source": [
    "# Load Library\n",
    "load global library"
   ]
  },
  {
   "cell_type": "code",
   "execution_count": 1,
   "metadata": {
    "scrolled": true
   },
   "outputs": [],
   "source": [
    "import sys\n",
    "import os"
   ]
  },
  {
   "cell_type": "markdown",
   "metadata": {},
   "source": [
    "import random\n",
    "infectionPercentage = (-23.28 * 0) + 10.0\n",
    "print(infectionPercentage)\n",
    "test = random.randint(0,int(100*100))\n",
    "print(f\"{test} vs {int(infectionPercentage*100)}\")"
   ]
  },
  {
   "cell_type": "markdown",
   "metadata": {},
   "source": [
    "import matplotlib.pyplot"
   ]
  },
  {
   "cell_type": "markdown",
   "metadata": {},
   "source": [
    "load local library"
   ]
  },
  {
   "cell_type": "code",
   "execution_count": 2,
   "metadata": {
    "scrolled": true
   },
   "outputs": [],
   "source": [
    "sys.path.append(os.path.join(os.getcwd() , \"..\"))\n",
    "import lib.Map.Map as map\n",
    "import lib.Renderer.Renderer as renderer\n",
    "from lib.Renderer.GraphViewer import showData\n",
    "from lib.Renderer.LocationStatistic import showPieChart\n",
    "import threading\n",
    "import lib.Simulation.Simulator as Simulator"
   ]
  },
  {
   "cell_type": "code",
   "execution_count": 3,
   "metadata": {
    "scrolled": true
   },
   "outputs": [
    {
     "name": "stdout",
     "output_type": "stream",
     "text": [
      "\n",
      "    [Class] Map\n",
      "    A class to represent the map\n",
      "    \n",
      "    Properties:\n",
      "        - origin        : [Coordinate] map's origin coordinate\n",
      "        - end           : [Coordinate] map's end coordinate\n",
      "        - num_nodes     : Number of Nodes.\n",
      "        - nodesDict     : Dictionary of all nodes. The key used are the Open Street Map ID.\n",
      "        - nodes         : List of all nodes.\n",
      "        \n",
      "        - num_ways      : Number of Ways.\n",
      "        - waysDict      : Dictionary of all nodes. The key used are the Open Street Map ID.\n",
      "        - ways          : List of all ways.\n",
      "        \n",
      "        - num_roads     : Number of Roads.\n",
      "        - roadNodesDict : \n",
      "        - roadNodes     : \n",
      "        - roadsDict     : List of all nodes that marked as road.\n",
      "        - roads         : List of all roads.\n",
      "        \n",
      "        - num_buildings : Number of Buildings.\n",
      "        - buildings     : List of all buildings.\n",
      "        - naturals      : List of all naturals.\n",
      "        - leisures      : List of all leisures.\n",
      "        - amenities     : List of all amenities.\n",
      "        \n",
      "        - grids         : [(int,int)] Two dimensional array of grids\n",
      "        \n",
      "        - others        : List of other openstreetmap ways that yet to be categorized.\n",
      "        - distanceLat   : height of 1 grid in latitude\n",
      "        - distanceLon   : width of 1 grid in longitude\n",
      "        - gridsize      : tuple of 2 integer that shows how many grids we have\n",
      "    \n"
     ]
    }
   ],
   "source": [
    "print(map.Map.__doc__)"
   ]
  },
  {
   "cell_type": "code",
   "execution_count": 4,
   "metadata": {
    "scrolled": false
   },
   "outputs": [
    {
     "name": "stdout",
     "output_type": "stream",
     "text": [
      "\n",
      "    [Function] readFile\n",
      "    Function to generate map fom osm File\n",
      "    \n",
      "    parameter:\n",
      "        - filepath : [string] path to the OSM file\n",
      "        - grid     : [(int,int)] grid size, default value = (10,10)\n",
      "    \n"
     ]
    }
   ],
   "source": [
    "\n",
    "print(map.readFile.__doc__)"
   ]
  },
  {
   "cell_type": "code",
   "execution_count": 5,
   "metadata": {
    "scrolled": true
   },
   "outputs": [],
   "source": [
    "dataDirectory = os.path.join(\"..\",\"osmData\")\n",
    "filename = \"TX-To-TU.osm\"\n",
    "filepath = os.path.join(dataDirectory,filename)\n",
    "\n",
    "buildingConfigPath = os.path.join(\"..\",\"config\",\"tsukuba-tu-building-data.csv\")"
   ]
  },
  {
   "cell_type": "code",
   "execution_count": null,
   "metadata": {
    "scrolled": false
   },
   "outputs": [
    {
     "name": "stdout",
     "output_type": "stream",
     "text": [
      "0.002800000000002001,0.004399999999999693\n"
     ]
    }
   ],
   "source": [
    "osmMap = map.readFile(filepath,buildingCSV = buildingConfigPath)"
   ]
  },
  {
   "cell_type": "code",
   "execution_count": null,
   "metadata": {
    "scrolled": false
   },
   "outputs": [],
   "source": [
    "print(osmMap)"
   ]
  },
  {
   "cell_type": "code",
   "execution_count": null,
   "metadata": {
    "scrolled": false
   },
   "outputs": [],
   "source": [
    "sim = Simulator.Simulator(\"../config/jobs.csv\",osmMap,agentNum = 1000,threadNumber = 6, infectedAgent = 0.1)"
   ]
  },
  {
   "cell_type": "code",
   "execution_count": null,
   "metadata": {
    "scrolled": true
   },
   "outputs": [],
   "source": [
    "len(sim.agents)"
   ]
  },
  {
   "cell_type": "code",
   "execution_count": null,
   "metadata": {
    "scrolled": false
   },
   "outputs": [],
   "source": [
    "x = threading.Thread(target=showData, args=(sim,))\n",
    "x.start()\n",
    "#sim.stepCount = 3600*8"
   ]
  },
  {
   "cell_type": "code",
   "execution_count": null,
   "metadata": {
    "scrolled": true
   },
   "outputs": [],
   "source": [
    "#y = threading.Thread(target=showPieChart, args=(sim,))\n",
    "#y.start()"
   ]
  },
  {
   "cell_type": "code",
   "execution_count": null,
   "metadata": {},
   "outputs": [],
   "source": []
  },
  {
   "cell_type": "code",
   "execution_count": null,
   "metadata": {
    "scrolled": true
   },
   "outputs": [],
   "source": [
    "renderer.render(osmMap,sim,stepLength = 300)"
   ]
  },
  {
   "cell_type": "code",
   "execution_count": null,
   "metadata": {},
   "outputs": [],
   "source": []
  },
  {
   "cell_type": "code",
   "execution_count": null,
   "metadata": {
    "scrolled": true
   },
   "outputs": [],
   "source": [
    "osmMap.summarizeBuilding()"
   ]
  },
  {
   "cell_type": "code",
   "execution_count": null,
   "metadata": {
    "scrolled": true
   },
   "outputs": [],
   "source": [
    "sim.history"
   ]
  },
  {
   "cell_type": "code",
   "execution_count": null,
   "metadata": {},
   "outputs": [],
   "source": [
    "for agent in sim.agents:\n",
    "    print(agent.home.groceries)"
   ]
  },
  {
   "cell_type": "markdown",
   "metadata": {},
   "source": []
  },
  {
   "cell_type": "markdown",
   "metadata": {},
   "source": [
    "showData(sim)"
   ]
  },
  {
   "cell_type": "markdown",
   "metadata": {},
   "source": [
    "\n",
    "sim.stepCount = 3600*8"
   ]
  },
  {
   "cell_type": "markdown",
   "metadata": {
    "scrolled": true
   },
   "source": [
    "x = threading.Thread(target=renderer.render, args=(osmMap,sim,))\n",
    "x.start()"
   ]
  },
  {
   "cell_type": "markdown",
   "metadata": {},
   "source": [
    "showData(sim)"
   ]
  },
  {
   "cell_type": "markdown",
   "metadata": {},
   "source": [
    "a = [(45,'for', 24), (3,'Geeks', 8), (20,'Geeks', 30)] \n",
    "a.sort(key=lambda x:x[1])\n",
    "a"
   ]
  },
  {
   "cell_type": "markdown",
   "metadata": {},
   "source": [
    "result"
   ]
  },
  {
   "cell_type": "markdown",
   "metadata": {},
   "source": [
    "print(osmMap.buildingsMap[\"b586\"])\n",
    "print(osmMap.buildingsMap[\"b586\"].node)\n",
    "print(osmMap.buildingsMap[\"b586\"].entryPoint)\n"
   ]
  },
  {
   "cell_type": "markdown",
   "metadata": {},
   "source": [
    "for x in sim.agents:\n",
    "    print(x.mainJob.isWorking(0,8))"
   ]
  },
  {
   "cell_type": "markdown",
   "metadata": {},
   "source": [
    "agent = sim.agents[1]"
   ]
  },
  {
   "cell_type": "markdown",
   "metadata": {},
   "source": [
    "agent.step(0,8,steps=15)"
   ]
  },
  {
   "cell_type": "markdown",
   "metadata": {},
   "source": [
    "sim.currentHour()"
   ]
  },
  {
   "cell_type": "markdown",
   "metadata": {},
   "source": [
    "print(agent.activeSequence)"
   ]
  },
  {
   "cell_type": "markdown",
   "metadata": {},
   "source": [
    "osmMap.findPath(agent,agent.mainJob.building)"
   ]
  },
  {
   "cell_type": "markdown",
   "metadata": {},
   "source": [
    "x = agent.currentNode.getMovementSequence(agent.mainJob.building.node)\n",
    "print (x)"
   ]
  },
  {
   "cell_type": "markdown",
   "metadata": {},
   "source": [
    "print(agent.currentNode)\n",
    "print(agent.home.node())"
   ]
  },
  {
   "cell_type": "markdown",
   "metadata": {},
   "source": [
    "agent.mainJob.isWorking(0,8)"
   ]
  },
  {
   "cell_type": "markdown",
   "metadata": {},
   "source": [
    "agent.mainJob.workdays"
   ]
  },
  {
   "cell_type": "markdown",
   "metadata": {},
   "source": [
    "b = agent.currentNode.getMovementSequence(agent.mainJob.building.node)  \n",
    "print(b)"
   ]
  },
  {
   "cell_type": "markdown",
   "metadata": {},
   "source": [
    "from lib.Map.PathFinder import searchPath\n",
    "distance, sequence = searchPath(osmMap,agent.currentNode,agent.mainJob.building.node)  "
   ]
  },
  {
   "cell_type": "markdown",
   "metadata": {},
   "source": [
    "sequence"
   ]
  },
  {
   "cell_type": "markdown",
   "metadata": {},
   "source": [
    "distance"
   ]
  },
  {
   "cell_type": "markdown",
   "metadata": {},
   "source": [
    "agent.setMovementSequence(activeSequence)"
   ]
  },
  {
   "cell_type": "markdown",
   "metadata": {},
   "source": [
    "agent.currentNode.addMovementSequence(sequence.clone())      "
   ]
  },
  {
   "cell_type": "markdown",
   "metadata": {},
   "source": []
  },
  {
   "cell_type": "code",
   "execution_count": null,
   "metadata": {
    "scrolled": true
   },
   "outputs": [],
   "source": []
  },
  {
   "cell_type": "raw",
   "metadata": {},
   "source": []
  }
 ],
 "metadata": {
  "kernelspec": {
   "display_name": "Python 3",
   "language": "python",
   "name": "python3"
  },
  "language_info": {
   "codemirror_mode": {
    "name": "ipython",
    "version": 3
   },
   "file_extension": ".py",
   "mimetype": "text/x-python",
   "name": "python",
   "nbconvert_exporter": "python",
   "pygments_lexer": "ipython3",
   "version": "3.6.9"
  }
 },
 "nbformat": 4,
 "nbformat_minor": 2
}
