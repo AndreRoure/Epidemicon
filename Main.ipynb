{
 "cells": [
  {
   "cell_type": "code",
   "execution_count": 1,
   "metadata": {},
   "outputs": [
    {
     "name": "stdout",
     "output_type": "stream",
     "text": [
      "Processed 0 lines.\n",
      "does it work?\n"
     ]
    }
   ],
   "source": [
    "import sys\n",
    "import os\n",
    "import yaml\n",
    "# adds the root of the git dir to the import path\n",
    "# FIXME: Directory shenanigans\n",
    "root_dir = os.getcwd()\n",
    "sys.path.append(root_dir)\n",
    "import lib.Map.Map as mmap\n",
    "from lib.Renderer.Controller import Controller\n",
    "from lib.Renderer.Controller import View\n",
    "from lib.Simulation.Simulator import Simulator\n",
    "\n",
    "configFileName = \"config.yml\"\n",
    "\n",
    "requiredConfigs = [\n",
    "    \"OSMfile\",\n",
    "    \"buildConnFile\",\n",
    "    \"jobsFile\",\n",
    "    \"numberOfAgents\",\n",
    "    \"buildingConfigPath\",\n",
    "    \"threadNumber\",\n",
    "    \"infectedAgent\",\n",
    "    \"vaccinationPercentage\",\n",
    "    \"windowWidth\",\n",
    "    \"windowHeight\",\n",
    "    \"reportDir\",\n",
    "    \"reportInterval\",\n",
    "]\n",
    "\n",
    "def read_validate_config(file_path):\n",
    "    config = None\n",
    "    with open(file_path, \"r\") as f:\n",
    "        config = yaml.safe_load(f)\n",
    "    err = False\n",
    "    errMessage = \"Missing required attributes in config file: \"\n",
    "    for c in requiredConfigs:\n",
    "        if c not in config:\n",
    "            err = True\n",
    "            errMessage += c + \" \"\n",
    "    if err:\n",
    "        raise NameError(errMessage)\n",
    "\n",
    "    return config\n",
    "\n",
    "def main():\n",
    "    c = read_validate_config(configFileName)\n",
    "\n",
    "    \n",
    "    # Load the data\n",
    "    gridSize = (c[\"gridHeight\"], c[\"gridWidth\"])\n",
    "    osmMap = mmap.readFile(c[\"OSMfile\"], c[\"buildConnFile\"], gridSize, c[\"buildingConfigPath\"])\n",
    "    # Start Simulator\n",
    "    sim = Simulator(\n",
    "        osmMap, \n",
    "        c[\"jobsFile\"], \n",
    "        c[\"numberOfAgents\"], \n",
    "        c[\"threadNumber\"], \n",
    "        c[\"infectedAgent\"], \n",
    "        c[\"vaccinationPercentage\"],\n",
    "        c[\"reportDir\"],\n",
    "        c[\"reportInterval\"])\n",
    "\n",
    "    # Draw    \n",
    "    windowSize = (c[\"windowWidth\"], c[\"windowHeight\"])\n",
    "    view = View(mymap=osmMap, simulation=sim, windowSize=windowSize)\n",
    "    app = Controller(model=sim, view=view)\n",
    "    app.main_loop()\n",
    "    sim.extract()\n",
    "\n",
    "if __name__ == \"__main__\":\n",
    "    main()\n",
    "    \n"
   ]
  }
 ],
 "metadata": {
  "kernelspec": {
   "display_name": "Python 3",
   "language": "python",
   "name": "python3"
  },
  "language_info": {
   "codemirror_mode": {
    "name": "ipython",
    "version": 3
   },
   "file_extension": ".py",
   "mimetype": "text/x-python",
   "name": "python",
   "nbconvert_exporter": "python",
   "pygments_lexer": "ipython3",
   "version": "3.8.5"
  }
 },
 "nbformat": 4,
 "nbformat_minor": 4
}
